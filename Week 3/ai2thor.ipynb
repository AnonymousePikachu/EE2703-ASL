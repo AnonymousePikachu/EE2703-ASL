{
 "cells": [
  {
   "cell_type": "code",
   "execution_count": 3,
   "metadata": {},
   "outputs": [],
   "source": [
    "from ai2thor.controller import Controller\n",
    "controller = Controller()\n",
    "event = controller.step(\"MoveAhead\")"
   ]
  },
  {
   "cell_type": "code",
   "execution_count": 4,
   "metadata": {},
   "outputs": [
    {
     "ename": "BrokenPipeError",
     "evalue": "[Errno 32] Broken pipe",
     "output_type": "error",
     "traceback": [
      "\u001b[0;31m---------------------------------------------------------------------------\u001b[0m",
      "\u001b[0;31mBrokenPipeError\u001b[0m                           Traceback (most recent call last)",
      "\u001b[1;32m/home/pika/Sem 4 Notes/EE2703 -APL/Week 3/ai2thor.ipynb Cell 2\u001b[0m in \u001b[0;36m<cell line: 1>\u001b[0;34m()\u001b[0m\n\u001b[0;32m----> <a href='vscode-notebook-cell:/home/pika/Sem%204%20Notes/EE2703%20-APL/Week%203/ai2thor.ipynb#W1sZmlsZQ%3D%3D?line=0'>1</a>\u001b[0m controller\u001b[39m.\u001b[39;49mstep(\n\u001b[1;32m      <a href='vscode-notebook-cell:/home/pika/Sem%204%20Notes/EE2703%20-APL/Week%203/ai2thor.ipynb#W1sZmlsZQ%3D%3D?line=1'>2</a>\u001b[0m     action\u001b[39m=\u001b[39;49m\u001b[39m\"\u001b[39;49m\u001b[39mMoveAhead\u001b[39;49m\u001b[39m\"\u001b[39;49m,\n\u001b[1;32m      <a href='vscode-notebook-cell:/home/pika/Sem%204%20Notes/EE2703%20-APL/Week%203/ai2thor.ipynb#W1sZmlsZQ%3D%3D?line=2'>3</a>\u001b[0m     moveMagnitude\u001b[39m=\u001b[39;49m\u001b[39mNone\u001b[39;49;00m\n\u001b[1;32m      <a href='vscode-notebook-cell:/home/pika/Sem%204%20Notes/EE2703%20-APL/Week%203/ai2thor.ipynb#W1sZmlsZQ%3D%3D?line=3'>4</a>\u001b[0m )\n\u001b[1;32m      <a href='vscode-notebook-cell:/home/pika/Sem%204%20Notes/EE2703%20-APL/Week%203/ai2thor.ipynb#W1sZmlsZQ%3D%3D?line=5'>6</a>\u001b[0m \u001b[39m# Other supported directions\u001b[39;00m\n\u001b[1;32m      <a href='vscode-notebook-cell:/home/pika/Sem%204%20Notes/EE2703%20-APL/Week%203/ai2thor.ipynb#W1sZmlsZQ%3D%3D?line=6'>7</a>\u001b[0m controller\u001b[39m.\u001b[39mstep(\u001b[39m\"\u001b[39m\u001b[39mMoveBack\u001b[39m\u001b[39m\"\u001b[39m)\n",
      "File \u001b[0;32m~/anaconda3/lib/python3.9/site-packages/ai2thor/controller.py:977\u001b[0m, in \u001b[0;36mController.step\u001b[0;34m(self, action, **action_args)\u001b[0m\n\u001b[1;32m    973\u001b[0m         action[new] \u001b[39m=\u001b[39m action[old]\n\u001b[1;32m    974\u001b[0m         \u001b[39m# not deleting to allow for older builds to continue to work\u001b[39;00m\n\u001b[1;32m    975\u001b[0m         \u001b[39m# del action[old]\u001b[39;00m\n\u001b[0;32m--> 977\u001b[0m \u001b[39mself\u001b[39;49m\u001b[39m.\u001b[39;49mserver\u001b[39m.\u001b[39;49msend(action)\n\u001b[1;32m    978\u001b[0m \u001b[39mtry\u001b[39;00m:\n\u001b[1;32m    979\u001b[0m     \u001b[39mself\u001b[39m\u001b[39m.\u001b[39mlast_event \u001b[39m=\u001b[39m \u001b[39mself\u001b[39m\u001b[39m.\u001b[39mserver\u001b[39m.\u001b[39mreceive()\n",
      "File \u001b[0;32m~/anaconda3/lib/python3.9/site-packages/ai2thor/fifo_server.py:248\u001b[0m, in \u001b[0;36mFifoServer.send\u001b[0;34m(self, action)\u001b[0m\n\u001b[1;32m    244\u001b[0m     action[\u001b[39m\"\u001b[39m\u001b[39msequenceId\u001b[39m\u001b[39m\"\u001b[39m] \u001b[39m=\u001b[39m \u001b[39mself\u001b[39m\u001b[39m.\u001b[39msequence_id\n\u001b[1;32m    245\u001b[0m \u001b[39m# print(action)\u001b[39;00m\n\u001b[1;32m    246\u001b[0m \n\u001b[1;32m    247\u001b[0m \u001b[39m# need to switch this to msgpack\u001b[39;00m\n\u001b[0;32m--> 248\u001b[0m \u001b[39mself\u001b[39;49m\u001b[39m.\u001b[39;49m_send_message(\n\u001b[1;32m    249\u001b[0m     FieldType\u001b[39m.\u001b[39;49mACTION,\n\u001b[1;32m    250\u001b[0m     json\u001b[39m.\u001b[39;49mdumps(action, \u001b[39mcls\u001b[39;49m\u001b[39m=\u001b[39;49mai2thor\u001b[39m.\u001b[39;49mserver\u001b[39m.\u001b[39;49mNumpyAwareEncoder)\u001b[39m.\u001b[39;49mencode(\u001b[39m\"\u001b[39;49m\u001b[39mutf8\u001b[39;49m\u001b[39m\"\u001b[39;49m),\n\u001b[1;32m    251\u001b[0m )\n",
      "File \u001b[0;32m~/anaconda3/lib/python3.9/site-packages/ai2thor/fifo_server.py:225\u001b[0m, in \u001b[0;36mFifoServer._send_message\u001b[0;34m(self, message_type, body)\u001b[0m\n\u001b[1;32m    222\u001b[0m \u001b[39mself\u001b[39m\u001b[39m.\u001b[39m_last_action_message \u001b[39m=\u001b[39m body\n\u001b[1;32m    224\u001b[0m \u001b[39mself\u001b[39m\u001b[39m.\u001b[39mclient_pipe\u001b[39m.\u001b[39mwrite(header \u001b[39m+\u001b[39m body \u001b[39m+\u001b[39m \u001b[39mself\u001b[39m\u001b[39m.\u001b[39meom_header)\n\u001b[0;32m--> 225\u001b[0m \u001b[39mself\u001b[39;49m\u001b[39m.\u001b[39;49mclient_pipe\u001b[39m.\u001b[39;49mflush()\n",
      "\u001b[0;31mBrokenPipeError\u001b[0m: [Errno 32] Broken pipe"
     ]
    }
   ],
   "source": [
    "controller.step(\n",
    "    action=\"MoveAhead\",\n",
    "    moveMagnitude=None\n",
    ")\n",
    "\n",
    "# Other supported directions\n",
    "controller.step(\"MoveBack\")\n",
    "controller.step(\"MoveLeft\")\n",
    "controller.step(\"MoveRight\")"
   ]
  },
  {
   "cell_type": "code",
   "execution_count": null,
   "metadata": {},
   "outputs": [],
   "source": []
  }
 ],
 "metadata": {
  "kernelspec": {
   "display_name": "Python 3 (ipykernel)",
   "language": "python",
   "name": "python3"
  },
  "language_info": {
   "codemirror_mode": {
    "name": "ipython",
    "version": 3
   },
   "file_extension": ".py",
   "mimetype": "text/x-python",
   "name": "python",
   "nbconvert_exporter": "python",
   "pygments_lexer": "ipython3",
   "version": "3.9.12"
  },
  "vscode": {
   "interpreter": {
    "hash": "b76e693b44b3581cdfe447d90b2f450bdb15f1cc32286f81ee9918acfd7cde71"
   }
  }
 },
 "nbformat": 4,
 "nbformat_minor": 2
}
