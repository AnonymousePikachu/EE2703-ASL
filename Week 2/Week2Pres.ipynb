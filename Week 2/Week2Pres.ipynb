{
 "cells": [
  {
   "attachments": {},
   "cell_type": "markdown",
   "id": "5b45ec84",
   "metadata": {},
   "source": [
    "# Assignment\n",
    "\n",
    " **Write a function to find the factorial of N (N being an input) and find the time taken to compute it.  This will obviously depend on where you run the code and which approach you use to implement the factorial.  Explain your observations briefly.**\n"
   ]
  },
  {
   "cell_type": "code",
   "execution_count": 21,
   "id": "f711cf72",
   "metadata": {},
   "outputs": [
    {
     "name": "stdout",
     "output_type": "stream",
     "text": [
      "2.25 µs ± 281 ns per loop (mean ± std. dev. of 7 runs, 100,000 loops each)\n",
      "The factorial of 12 is 479001600\n",
      "Time taken to compute the factorial: 0.00017833709716796875 seconds\n"
     ]
    }
   ],
   "source": [
    "import time\n",
    "\n",
    "# Function to find the factorial of a number using recursion\n",
    "def factorial(n):\n",
    "    if n == 0:\n",
    "        return 1\n",
    "    else:\n",
    "        return n * factorial(n-1) # function calling another instance of itself in recurring manner\n",
    "\n",
    "N = int(input(\"Enter the value of N: \"))\n",
    "start = time.time()\n",
    "result = factorial(N)\n",
    "end = time.time()\n",
    "\n",
    "# Timing and printing the result of the function\n",
    "%timeit factorial(N)\n",
    "print(\"The factorial of\", N, \"is\", result)\n",
    "print(\"Time taken to compute the factorial:\", end - start, \"seconds\")\n"
   ]
  },
  {
   "attachments": {},
   "cell_type": "markdown",
   "id": "1ff8c30d",
   "metadata": {},
   "source": [
    "This program is excecuted with a recurring function , that repeated call itself until the fucntion is completed. \n"
   ]
  },
  {
   "attachments": {},
   "cell_type": "markdown",
   "id": "c6e67de6",
   "metadata": {},
   "source": [
    "**Write a linear equation solver that will take in matrices $A$ and $b$ as inputs, and return the vector $x$ that solves the equation $Ax=b$.  Your function should catch errors in the inputs and return suitable error messages for different possible problems.**\n",
    "  - Time your solver to solve a random $10\\times 10$ system of equations.  Compare the time taken against the `numpy.linalg.solve` function for the same inputs.\n"
   ]
  },
  {
   "cell_type": "code",
   "execution_count": 23,
   "id": "3060cdaa",
   "metadata": {},
   "outputs": [
    {
     "name": "stdout",
     "output_type": "stream",
     "text": [
      "[-2.42284778e+01 -1.37911807e+01 -6.21988263e+00  8.31099362e+00\n",
      "  1.15057068e+01  7.57463093e+00 -4.77432099e+00  1.58531366e+01\n",
      "  1.41622549e+01  5.20172085e+06]\n",
      "1.55 ms ± 58.4 µs per loop (mean ± std. dev. of 7 runs, 1,000 loops each)\n",
      "[ 2.9686826   1.61032448  0.63256917 -1.00627507 -1.4185851  -0.91404035\n",
      "  0.65840464 -1.76023232 -1.76045683  0.95132066]\n",
      "9.82 µs ± 999 ns per loop (mean ± std. dev. of 7 runs, 100,000 loops each)\n"
     ]
    }
   ],
   "source": [
    "import numpy as np\n",
    "from timeit import default_timer as timer\n",
    "\n",
    "#defining a function to solve a set of consistent linear Equations\n",
    "def Linear_solver(A,b):\n",
    "    A = np.array(A,dtype=float)\n",
    "    b = np.array(b,dtype=float)\n",
    "    size = len(b) - 1\n",
    "    \n",
    "    # Exception for wrong format of matrix passed\n",
    "    if A.shape[0] != b.shape[0]:\n",
    "        raise Exception(\"The number of rows in A and b must be the same.\")\n",
    "        \n",
    "    if np.linalg.det(A) == 0:\n",
    "            raise Exception(\"The matrix A is singular, and cannot be inverted.\")\n",
    "\n",
    "    #Pivoting the matrix to avoid zero errors\n",
    "    for j in range(size):\n",
    "        Max = j\n",
    "        for k in range(j,size):\n",
    "            if np.abs(A[k][j]) > np.abs(A[Max][j]) :\n",
    "                Max = k\n",
    "        A[[j, Max]] = A[[Max, j]]\n",
    "\n",
    "        for i in range(size-j):\n",
    "            fact = A[j][j]/A[i+j+1][j]\n",
    "            A[i+j+1] = fact*A[i+j+1] - A[j]\n",
    "            b[i+j+1] = fact*b[i+j+1] - b[j]\n",
    "\n",
    "    #Finding the diagonal matrix\n",
    "    for j in range(size,0,-1):\n",
    "        for i in range(size):\n",
    "            fact = A[j-i-1][j]/A[j][j]\n",
    "            A[j-i-1] = A[j-i-1] - fact*A[j]\n",
    "            b[j-i-1] = b[j-i-1] - fact*b[j]\n",
    "            \n",
    "    for i in range(size):\n",
    "        b[i] = b[i]/A[i][i]    \n",
    "    return b\n",
    "\n",
    "# Generating randon 10 X 10 matrices to test the solver\n",
    "A = np.random.random_sample(size = (10,10))*100\n",
    "b = np.random.random_sample(size = (10))*10\n",
    "\n",
    "#printing and timing the function againt np.linalg.solve()\n",
    "print(Linear_solver(A,b))\n",
    "%timeit Linear_solver(A,b)\n",
    "print(np.linalg.solve(A,b))\n",
    "%timeit np.linalg.solve(A,b)\n"
   ]
  },
  {
   "attachments": {},
   "cell_type": "markdown",
   "id": "3c116cd3",
   "metadata": {},
   "source": [
    "Major part of the cell is a function defentition to solve a set of linear equations\n",
    "- It starts by converting the input list into array for computational ease\n",
    "- Then it checks if the dimensions of the arrays are consistent for a solution,and also if the determinant of the matrix is zero.\n",
    "- Then the matrix is pivoted to avoid the zero coefficient errors and to give more consistent answers\n",
    "- Then the matrix is converted into a diagonal matrix \n",
    "- In the last step the final solution to the linear system is found out by eqating the diagonal terms in the A matrix and the terms of the b matrix"
   ]
  },
  {
   "attachments": {},
   "cell_type": "markdown",
   "id": "a934f50b",
   "metadata": {},
   "source": [
    "**Given a circuit netlist in the form described above, read it in from a file, construct the appropriate matrices, and use the solver you have written above to obtain the voltages and currents in the circuit.  If you find AC circuits hard to handle, first do this for pure DC circuits, but you should be able to handle both voltage and current sources.**"
   ]
  },
  {
   "attachments": {},
   "cell_type": "markdown",
   "id": "858816ad",
   "metadata": {},
   "source": [
    "The thrid problem is solved in another file uploade with this **netlist_solver.py**"
   ]
  },
  {
   "attachments": {},
   "cell_type": "markdown",
   "id": "7b7de2c3",
   "metadata": {},
   "source": [
    "## Explanation for the third problem\n",
    "- The program starts by defining class for all the components.\n",
    "- It checks if the file has been passed to it throught the command line properly\n",
    "- File is read along with registering the values of the start and end of the file as well as the ac check data. Errors int his part are also rooted out with a try except block\n",
    "- All the data given in through the netlist file is now transfered to a list l for easy access, this is done simultaniously while addressing variety in the data recieved for each component\n",
    "- Now the number of nodes is decided along with the information about them\n",
    "- Penultimate step of the program is to make the MNA matrix to be solved, this is done by taking different scenarious for various components and depending on the kind of voltage they might encounter.\n",
    "\n",
    "\n",
    "***Note***: The program must be run by using the following command in the terminal while ensuring that the python and netlist file are both in the current working directory\n",
    "\n",
    "`python netlist_solver.py ckt1.netlist`"
   ]
  }
 ],
 "metadata": {
  "kernelspec": {
   "display_name": "Python 3 (ipykernel)",
   "language": "python",
   "name": "python3"
  },
  "language_info": {
   "codemirror_mode": {
    "name": "ipython",
    "version": 3
   },
   "file_extension": ".py",
   "mimetype": "text/x-python",
   "name": "python",
   "nbconvert_exporter": "python",
   "pygments_lexer": "ipython3",
   "version": "3.9.12 (main, Apr  5 2022, 06:56:58) \n[GCC 7.5.0]"
  },
  "vscode": {
   "interpreter": {
    "hash": "b76e693b44b3581cdfe447d90b2f450bdb15f1cc32286f81ee9918acfd7cde71"
   }
  }
 },
 "nbformat": 4,
 "nbformat_minor": 5
}
