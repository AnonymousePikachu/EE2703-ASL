{
 "cells": [
  {
   "cell_type": "markdown",
   "id": "bc66b3b5-035d-4397-af1d-5c64e180632f",
   "metadata": {
    "authors": [
     {
      "name": "Sidharth S Kumar"
     },
     {
      "name": "EE21B130"
     }
    ],
    "title": "APL Lab 1"
   },
   "source": [
    "# Document metadata\n",
    "\n",
    "> *Problem statement: modify this document so that the author name reflects your name and roll number.  Explain the changes you needed to make here.  If you use other approaches such as LaTeX to generate the PDF, explain the differences between the notebook approach and what you have used.*"
   ]
  },
  {
   "cell_type": "markdown",
   "id": "90d271f4",
   "metadata": {},
   "source": [
    "## Numerical types"
   ]
  },
  {
   "cell_type": "code",
   "execution_count": 1,
   "id": "1e2d2e6e",
   "metadata": {},
   "outputs": [
    {
     "name": "stdout",
     "output_type": "stream",
     "text": [
      "2.4\n"
     ]
    }
   ],
   "source": [
    "print(12 / 5)"
   ]
  },
  {
   "cell_type": "markdown",
   "id": "41593fe7",
   "metadata": {},
   "source": [
    "Normal division between intigers give you a *float* data type, which in this case is 2.4."
   ]
  },
  {
   "cell_type": "code",
   "execution_count": 2,
   "id": "1b587eb7",
   "metadata": {},
   "outputs": [
    {
     "name": "stdout",
     "output_type": "stream",
     "text": [
      "2\n"
     ]
    }
   ],
   "source": [
    "print(12 // 5)"
   ]
  },
  {
   "cell_type": "markdown",
   "id": "4ecd926a",
   "metadata": {},
   "source": [
    "This code calculaets the intiger division of 12 by 5. \n",
    "This means that the reault is rounded to the closest intiget , and the datatype *int* is used"
   ]
  },
  {
   "cell_type": "code",
   "execution_count": 2,
   "id": "97a6c535",
   "metadata": {},
   "outputs": [
    {
     "name": "stdout",
     "output_type": "stream",
     "text": [
      "10 10 1.0\n"
     ]
    }
   ],
   "source": [
    "a = b = 10\n",
    "print(a,b,a/b)"
   ]
  },
  {
   "cell_type": "markdown",
   "id": "6463c681",
   "metadata": {},
   "source": [
    "This code prints the intigers stored in q and b and then their float division result.\n",
    "\n",
    "The result contains 10,10,1.0 which means that the first two are *int* and the third is *float*"
   ]
  },
  {
   "cell_type": "markdown",
   "id": "af329d1c",
   "metadata": {},
   "source": [
    "## Strings and related operations"
   ]
  },
  {
   "cell_type": "code",
   "execution_count": 3,
   "id": "ba913542",
   "metadata": {},
   "outputs": [
    {
     "name": "stdout",
     "output_type": "stream",
     "text": [
      "Hello \n"
     ]
    }
   ],
   "source": [
    "a = \"Hello \"\n",
    "print(a)"
   ]
  },
  {
   "cell_type": "markdown",
   "id": "c3473486",
   "metadata": {},
   "source": [
    "Printing a simple Character string"
   ]
  },
  {
   "cell_type": "code",
   "execution_count": 4,
   "id": "ad0e046b",
   "metadata": {},
   "outputs": [
    {
     "name": "stdout",
     "output_type": "stream",
     "text": [
      "Hello 10\n"
     ]
    }
   ],
   "source": [
    "#Using an f-string to print the result\n",
    "print(f\"{a}{b}\")  "
   ]
  },
  {
   "cell_type": "markdown",
   "id": "dfb3c425",
   "metadata": {},
   "source": [
    "Using **f-string** to print an interpolated string using only one line of code.\n",
    "Noramlly a variable won't be able to be represented with a string in the print funciton . This is fixed by using f-string"
   ]
  },
  {
   "cell_type": "code",
   "execution_count": 14,
   "id": "e2793fa4",
   "metadata": {},
   "outputs": [
    {
     "name": "stdout",
     "output_type": "stream",
     "text": [
      "----------------------------------------42\n",
      "*-*-*-*-*-*-*-*-*-*-*-*-*-*-*-*-*-*-*-*-"
     ]
    }
   ],
   "source": [
    "# Ending the print function with a null character , replacing the newline.\n",
    "for i in range(0,40):\n",
    "    print('-',end=\"\") \n",
    "    print(42)\n",
    "\n",
    "# For loop alternating - and * to make the pattern\n",
    "for i in range(0,20): \n",
    "    print(\"*\",end=\"\")\n",
    "    print('-',end=\"\")\n"
   ]
  },
  {
   "cell_type": "markdown",
   "id": "13029ce1",
   "metadata": {},
   "source": [
    "Using for loops to print iterations of patterns to give the desired result"
   ]
  },
  {
   "cell_type": "code",
   "execution_count": 15,
   "id": "9b4e1f03",
   "metadata": {},
   "outputs": [
    {
     "name": "stdout",
     "output_type": "stream",
     "text": [
      "The variable 'a' has the value Hello  and 'b' has the value         10\n"
     ]
    }
   ],
   "source": [
    "# f-string to print an interpolated string with a single print function \n",
    "print(f\"The variable 'a' has the value {a} and 'b' has the value {b:>10}\") "
   ]
  },
  {
   "cell_type": "markdown",
   "id": "d269c1f5",
   "metadata": {},
   "source": [
    "Using **f-string** to print an interpolated string using only one line of code.\n",
    "Noramlly a variable won't be able to be represented with a string in the print funciton . This is fixed by using f-string\n",
    "\n",
    "One more thing that can be noted here is that the variable b is formatted to the right by 10."
   ]
  },
  {
   "cell_type": "code",
   "execution_count": 37,
   "id": "9d746f81",
   "metadata": {},
   "outputs": [
    {
     "name": "stdout",
     "output_type": "stream",
     "text": [
      "EE2703                     Applied Programming Lab\n",
      "EE2003                       Computer Organization\n",
      "EE5311                           Digital IC Design\n"
     ]
    }
   ],
   "source": [
    "# Initialising the list of dictionaries containing the Course ID and Course Names\n",
    "dict_list =[{'id': 'EE2703', 'name': 'Applied Programming Lab'},\n",
    "    {'id': 'EE2003', 'name': 'Computer Organization'},\n",
    "    {'id': 'EE5311', 'name': 'Digital IC Design'}]\n",
    "\n",
    "# Iterating over the list and printing its element with the right formatting\n",
    "for i in dict_list:\n",
    "    print(f\"{i['id']:<10}{i['name']:>40}\")\n",
    "\n"
   ]
  },
  {
   "cell_type": "markdown",
   "id": "15df943b",
   "metadata": {},
   "source": [
    "A list of dictionaries is created to hold the courses corresponding their course IDs\n",
    "The this list if iterated through a for loop to print with proper formatting and order with methods same as those used in the previous code cell"
   ]
  },
  {
   "cell_type": "code",
   "execution_count": null,
   "id": "e5a39906",
   "metadata": {},
   "outputs": [],
   "source": []
  },
  {
   "cell_type": "markdown",
   "id": "959169d6",
   "metadata": {},
   "source": [
    "# Functions for general manipulation"
   ]
  },
  {
   "cell_type": "code",
   "execution_count": 8,
   "id": "0ba63a08",
   "metadata": {},
   "outputs": [
    {
     "data": {
      "text/plain": [
       "'11101100'"
      ]
     },
     "execution_count": 8,
     "metadata": {},
     "output_type": "execute_result"
    }
   ],
   "source": [
    "# Defining a function to find the binary represenation of numbers given\n",
    "def twosc(number, N=16):\n",
    "    if number >= 0:\n",
    "        # Positive numbers: Find binary representation of number and fill with 0s\n",
    "        binary_representation = bin(number)[2:].zfill(N)\n",
    "    else:\n",
    "        # Negative numbers: Find binary representation of 2^N + number and fill with 0s\n",
    "        binary_representation = bin(2**N + number)[2:].zfill(N)\n",
    "    return binary_representation\n",
    "\n",
    "# Calling the function to test it\n",
    "twosc(-20,8)"
   ]
  },
  {
   "cell_type": "markdown",
   "id": "d9845f63",
   "metadata": {},
   "source": [
    "# List comprehensions and decorators"
   ]
  },
  {
   "cell_type": "code",
   "execution_count": 4,
   "id": "9f573a70-d7f0-4496-926f-34b7cff5492f",
   "metadata": {},
   "outputs": [
    {
     "data": {
      "text/plain": [
       "[0, 4, 16, 36, 64]"
      ]
     },
     "execution_count": 4,
     "metadata": {},
     "output_type": "execute_result"
    }
   ],
   "source": [
    "[x*x for x in range(10) if x%2 == 0]"
   ]
  },
  {
   "cell_type": "markdown",
   "id": "5b74a648",
   "metadata": {},
   "source": [
    "The output is a **list comprehension**\n",
    "\n",
    "The list comprehension is composed of three parts:\n",
    "\n",
    "- The expression `x*x` specifies the operation to be performed on each element in the list.\n",
    "- The `for x in range(10)` part specifies the source of the elements in the list, in this case the numbers from 0 to 9.\n",
    "- The if `x%2 == 0` part specifies a filter that only allows elements that satisfy this condition to be included in the list.\n",
    "\n",
    "Therefore the result generated is a list of aquares of the even numbers from 0 to 9, that is, `[0, 4, 16, 36, 64]`.\n",
    "\n",
    "\n",
    "\n"
   ]
  },
  {
   "cell_type": "code",
   "execution_count": 4,
   "id": "d34ddb81-5caf-40a7-ac1f-43ce08d64220",
   "metadata": {},
   "outputs": [
    {
     "data": {
      "text/plain": [
       "[1, 2, 3, 4, 5, 6, 7, 8, 9]"
      ]
     },
     "execution_count": 4,
     "metadata": {},
     "output_type": "execute_result"
    }
   ],
   "source": [
    "matrix = [[1,2,3], [4,5,6], [7,8,9]]\n",
    "[v for row in matrix for v in row]"
   ]
  },
  {
   "cell_type": "markdown",
   "id": "6359c77e",
   "metadata": {},
   "source": [
    "This is againa **List Comprehension** example.\n",
    "\n",
    "The list is \"comprehending\" `v` in this case, as given by the first element\n",
    "\n",
    "The looping itself is composed of two parts:\n",
    "\n",
    "1) The expression `for row in matrix` specifies that `row` is the variable that will iterate over the rows of the matrix `matrix`.\n",
    "2) The inner `for v in row` part specifies that `v` is the variable that will iterate over the values in each row.\n",
    " \n",
    "Therefore, the list comprehension `[v for row in matrix for v in row]` generates a list of all the values in the matrix by iterating over each row and then over each value in each row. The resulting list is [1, 2, 3, 4, 5, 6, 7, 8, 9], which is the flattened representation of the original matrix."
   ]
  },
  {
   "cell_type": "code",
   "execution_count": 2,
   "id": "e7349601-a068-4d91-bc0f-bcc755c4b215",
   "metadata": {},
   "outputs": [
    {
     "name": "stdout",
     "output_type": "stream",
     "text": [
      "[2, 3, 5, 7, 11, 13, 17, 19, 23, 29, 31, 37, 41, 43, 47, 53, 59, 61, 67, 71, 73, 79, 83, 89, 97]\n"
     ]
    }
   ],
   "source": [
    "# Defining a function to find if a number is prime\n",
    "def is_prime(x):\n",
    "    if x < 2:\n",
    "        return False\n",
    "    for i in range(2, int(x ** 0.5) + 1):\n",
    "        if x % i == 0:\n",
    "            return False\n",
    "    return True\n",
    "\n",
    "# Using a list comprehension to print the prime numbers between 1 and 100 using a if statement on is_prime() to make sure that the number is prime \n",
    "print([x for x in range(1,101) if is_prime(x)])"
   ]
  },
  {
   "cell_type": "markdown",
   "id": "1012d295",
   "metadata": {},
   "source": [
    "First part is the defenition of a function `is_prime()` to find if the number supplied is a prime or not\n",
    "- This is done by checking its divisibility by numbers from $2$ to $\\sqrt N + 1$\n",
    "- If no such divisor is found then the function returns `True` and `False` otherwise\n",
    "\n",
    "Second part is essentially printing a list comprehension that iterates from 1 to 100 and printing the primes in that range using `is_prime()`"
   ]
  },
  {
   "cell_type": "code",
   "execution_count": 6,
   "id": "3dd1087b-f384-41a2-88d8-6788336d2291",
   "metadata": {},
   "outputs": [
    {
     "name": "stdout",
     "output_type": "stream",
     "text": [
      "Hello happy flappy world\n"
     ]
    }
   ],
   "source": [
    "def f1(x):\n",
    "    return \"happy \" + x\n",
    "def f2(f):\n",
    "    def wrapper(*args, **kwargs):\n",
    "        return \"Hello \" + f(*args, **kwargs) + \" world\"\n",
    "    return wrapper\n",
    "f3 = f2(f1)\n",
    "print(f3(\"flappy\"))"
   ]
  },
  {
   "cell_type": "markdown",
   "id": "82ba089b",
   "metadata": {},
   "source": [
    "This code defines two functions f1(x) and f2(f).\n",
    "\n",
    "f1(x) takes a single argument x and returns the string \"happy \" concatenated with x.\n",
    "\n",
    "f2(f) takes a single argument f which is a function and returns a new function wrapper which takes any number of arguments *args and any number of keyword arguments **kwargs. The wrapper function returns the string \"Hello \" concatenated with the result of calling f with the arguments *args and **kwargs, which is then concatenated with the string \" world\".\n",
    "\n",
    "Finally, the code assigns f3 to the result of calling f2 with the argument f1, effectively wrapping f1 with the wrapper function defined by f2.\n",
    "\n",
    "The code then calls f3 with the argument \"flappy\" and prints the result, which is the string \"Hello happy flappy world\"."
   ]
  },
  {
   "cell_type": "code",
   "execution_count": 7,
   "id": "ede870a7-6564-4930-9ff1-818f075c3e43",
   "metadata": {},
   "outputs": [
    {
     "name": "stdout",
     "output_type": "stream",
     "text": [
      "Hello nappy flappy world\n"
     ]
    }
   ],
   "source": [
    "# Explain the output below\n",
    "@f2\n",
    "def f4(x):\n",
    "    return \"nappy \" + x\n",
    "\n",
    "print(f4(\"flappy\"))"
   ]
  },
  {
   "cell_type": "markdown",
   "id": "e5e63fdb",
   "metadata": {},
   "source": [
    "The output of the code is Hello nappy flappy world.\n",
    "\n",
    "This is because f4 is **decorated** with the f2 decorator. The f2 decorator returns a closure wrapper that adds the string \"Hello \" to the start of the result of a call to the decorated function and adds \" world\" to the end.\n",
    "\n",
    "So when f4 is decorated with f2, it becomes wrapper and the call f4(\"flappy\") will run the closure and add \"Hello \" to the start of the string returned by f4 and add \" world\" to the end.\n",
    "\n",
    "This is how the code works:\n",
    "\n",
    "- f2 is a decorator that takes a function as input.\n",
    "- f2 returns a closure (the wrapper function) that takes the original function's result and adds the string \"Hello \" to the start and \" world\" to the end.\n",
    "- f4 is a function that returns the string \"nappy \" + x\n",
    "- f4 is decorated with f2 using the @f2 syntax, so it becomes the closure wrapper.\n",
    "- The code calls f4(\"flappy\") which is the same as calling the closure wrapper with argument \"flappy\".\n",
    "- The closure wrapper takes the string returned by f4 (\"nappy flappy\") and adds the strings \"Hello \" to the start and \" world\" to the end to give \"Hello nappy flappy world\"."
   ]
  },
  {
   "cell_type": "markdown",
   "id": "de144cc1-a06a-4e96-8017-7887296dddc0",
   "metadata": {},
   "source": [
    "# File IO"
   ]
  },
  {
   "cell_type": "code",
   "execution_count": 3,
   "id": "09e62f52-fec6-4026-a4d8-ca4b87b19732",
   "metadata": {},
   "outputs": [],
   "source": [
    "# Defining a function to print the primes till N to a text file trial.txt \n",
    "def write_primes(N, filename):\n",
    "    f=open(filename,'w')\n",
    "    f.write(str([x for x in range(1,N+1) if is_prime(x)]))\n",
    "    f.close()\n",
    "\n",
    "# Calling the function to test it out    \n",
    "write_primes(200,'trial.txt')\n"
   ]
  },
  {
   "cell_type": "markdown",
   "id": "adb8aa77",
   "metadata": {},
   "source": [
    "This cell defines the `write_primes()` function to write primes till a given number into a text file\n",
    "- This involves opening the file in `w` mode \n",
    "- Then the `write` function is used with the predefined function `is_prime()` \n",
    "\n",
    "Then the function is called to test it "
   ]
  },
  {
   "cell_type": "markdown",
   "id": "9b2de5cb-13c3-4804-9576-e7bb6fd3a371",
   "metadata": {},
   "source": [
    "# Exceptions"
   ]
  },
  {
   "cell_type": "code",
   "execution_count": 16,
   "id": "eec5626e-6e92-45bf-b307-2459de0f44e1",
   "metadata": {},
   "outputs": [
    {
     "name": "stdout",
     "output_type": "stream",
     "text": [
      "2 is a prime number\n"
     ]
    }
   ],
   "source": [
    "\n",
    "def check_prime(x):\n",
    "    # Convert x to integer and handle exceptions in case it's not possible\n",
    "    try:\n",
    "        x = int(x)\n",
    "    except ValueError:\n",
    "        print(\"Error: input must be an integer\")\n",
    "        return\n",
    "\n",
    "    # Check if x is less than 2 and return an error message if true\n",
    "    if x < 2:\n",
    "        print(\"Error: input must be greater than 1\")\n",
    "        return\n",
    "\n",
    "    if is_prime(x):\n",
    "        print(f\"{x} is a prime number\")\n",
    "        return\n",
    "    else:\n",
    "        print(f\"{x} is not a prime number\")\n",
    "\n",
    "# Prompt user to enter a number\n",
    "x = input('Enter a number: ')\n",
    "# Call the check_prime function with the user input\n",
    "check_prime(x)\n"
   ]
  },
  {
   "cell_type": "markdown",
   "id": "ea72d9bf",
   "metadata": {},
   "source": [
    "A function `check_prime()` is defined \n",
    "- The function checks for two kinds of errors, not an intiger error and less than 2 error\n",
    "- If any of the above error flags are triggered the function returns immideatly\n",
    "- Otherwise it checks for prime numbers and non-prime numbers using the `is_prime()` function that was defined earlier and then prints a result accordingly "
   ]
  }
 ],
 "metadata": {
  "authors": [
   {
    "name": "Sidharth S Kumar EE21B130"
   }
  ],
  "celltoolbar": "Edit Metadata",
  "kernelspec": {
   "display_name": "Python 3 (ipykernel)",
   "language": "python",
   "name": "python3"
  },
  "language_info": {
   "codemirror_mode": {
    "name": "ipython",
    "version": 3
   },
   "file_extension": ".py",
   "mimetype": "text/x-python",
   "name": "python",
   "nbconvert_exporter": "python",
   "pygments_lexer": "ipython3",
   "version": "3.9.12 (main, Apr  5 2022, 06:56:58) \n[GCC 7.5.0]"
  },
  "title": "EE2703 - Week 1",
  "toc-autonumbering": true,
  "vscode": {
   "interpreter": {
    "hash": "b76e693b44b3581cdfe447d90b2f450bdb15f1cc32286f81ee9918acfd7cde71"
   }
  }
 },
 "nbformat": 4,
 "nbformat_minor": 5
}
