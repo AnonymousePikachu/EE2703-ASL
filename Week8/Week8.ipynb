{
 "cells": [
  {
   "cell_type": "markdown",
   "id": "b0dc7bc1-8d6c-4fd0-a0e8-5db1df8fca43",
   "metadata": {},
   "source": [
    "# Compilation and Speeding Up\n",
    "\n",
    "Python is an interpreted language.  This means that the code you write is basically being interpreted line by line (this is an oversimplification, but not far from the truth).  Each time a line of code is read, it has to be converted into equivalent machine language instructions.  For example, a `for` loop will need a register to be initialized, an instruction for incrementing the counter, an instruction to check the limits, and suitable branching statements.\n",
    "\n",
    "When a program is *compiled*, it is converted into machine language once and for all, and only that code is then run.  This also means that any change in the code requires a complete recompilation.  Compared to Python, this is less interactive and takes a longer time to do.\n",
    "\n",
    "So compiled languages pay a cost at compile time, and reap the benefits at run time.  If you expect that your program is going to run multiple times, then it is usually worth checking if this cost is worth it."
   ]
  },
  {
   "cell_type": "markdown",
   "id": "37e6f8b6-32bc-4625-9455-c3c4d5512b3e",
   "metadata": {},
   "source": [
    "## Speed of Python\n",
    "\n",
    "Python code is typically slow for a number of reasons:\n",
    "\n",
    "- Data types are not known ahead of time, and the type of a variable can be dynamically changed.  You can store a string in a variable that previously had an `int` for example, and there will be no conflict.  This makes it hard to optimize variables as you do not know how they will change in future.\n",
    "- Semantics of certain operations are different in Python than they are in other languages or machine code.  For example, *Divide by Zero* will cause an exception to be raised in Python code.  On the other hand, in C code it will result in the program crashing.  It may be possible to catch this exception in languages like C++, but it is optional and not mandatory, so it is possible to crash as well.  Such checks add extra code and slow the program down.\n",
    "- Accessing an index that is beyond the bounds of a list will cause an Error to be raised.  In C it will not be an error, but may cause the program to crash with a Segmentation Fault.\n",
    "\n",
    "Similarly, there are other situations where the semantics of the Python code differ from a similar C or machine language representation.  Whenever this happens, there is a chance that the Python will be slower than the raw code.\n",
    "\n",
    "## Improving Speed\n",
    "\n",
    "The simplest approach for speeding things up is to try and convert the Python code to a lower level language like C, compile it, and then run the compiled code.  However, due to the above restrictions, this has to be done with care, to avoid changing the meaning of the program.\n",
    "\n",
    "## Cython\n",
    "\n",
    "*Cython* is a particular variant of the Python language: it introduces several new syntactic elements into the language to address the issues with types and compilation.  The usual way of running it is to compile the code into a dynamic library, and then import this into Python.  However, in Jupyter notebooks, there is an easier approach that can be used, which makes use of the Cython extensions and *magic annotations*."
   ]
  },
  {
   "cell_type": "markdown",
   "id": "32863242-1fbd-4877-a00e-1581be96f196",
   "metadata": {},
   "source": [
    "# Timing and Optimization\n",
    "\n",
    "We first measure the time taken for a simple function.  Then we can look at optimizing this using Cython."
   ]
  },
  {
   "cell_type": "code",
   "execution_count": 1,
   "id": "157ec55c-0a02-4ded-a199-af6e708e00e3",
   "metadata": {},
   "outputs": [],
   "source": [
    "def isPrime(n):\n",
    "    for i in range(2,int(n**0.5)+1):\n",
    "        if n%i==0:\n",
    "            return False\n",
    "        \n",
    "    return True"
   ]
  },
  {
   "cell_type": "code",
   "execution_count": 2,
   "id": "e2939122-e8da-4f90-b198-1be2c38b2b0c",
   "metadata": {},
   "outputs": [
    {
     "name": "stdout",
     "output_type": "stream",
     "text": [
      "3.98 ms ± 832 µs per loop (mean ± std. dev. of 7 runs, 100 loops each)\n"
     ]
    }
   ],
   "source": [
    "%timeit isPrime(999999937)"
   ]
  },
  {
   "cell_type": "markdown",
   "id": "2cdff68a-607f-4032-9e53-ce6812f01230",
   "metadata": {},
   "source": [
    "## Cython\n",
    "\n",
    "First we just apply cython without any optimizations.  Later we will see the effect of adding the optimizations to it."
   ]
  },
  {
   "cell_type": "code",
   "execution_count": 5,
   "id": "199d5040-7961-46e7-a380-837b7a022133",
   "metadata": {},
   "outputs": [
    {
     "name": "stdout",
     "output_type": "stream",
     "text": [
      "The Cython extension is already loaded. To reload it, use:\n",
      "  %reload_ext Cython\n"
     ]
    }
   ],
   "source": [
    "%load_ext Cython"
   ]
  },
  {
   "cell_type": "code",
   "execution_count": 4,
   "id": "ee4f0740-e914-4443-b6c0-e5b1ad261bf8",
   "metadata": {},
   "outputs": [
    {
     "name": "stderr",
     "output_type": "stream",
     "text": [
      "/home/pika/anaconda3/compiler_compat/ld: /lib64/libc.so.6: unknown type [0x13] section `.relr.dyn'\n",
      "/home/pika/anaconda3/compiler_compat/ld: skipping incompatible /lib64/libc.so.6 when searching for /lib64/libc.so.6\n",
      "/home/pika/anaconda3/compiler_compat/ld: cannot find /lib64/libc.so.6\n",
      "/home/pika/anaconda3/compiler_compat/ld: /lib64/libc.so.6: unknown type [0x13] section `.relr.dyn'\n",
      "/home/pika/anaconda3/compiler_compat/ld: skipping incompatible /lib64/libc.so.6 when searching for /lib64/libc.so.6\n",
      "/home/pika/anaconda3/compiler_compat/ld: /lib64/ld-linux-x86-64.so.2: unknown type [0x13] section `.relr.dyn'\n",
      "/home/pika/anaconda3/compiler_compat/ld: skipping incompatible /lib64/ld-linux-x86-64.so.2 when searching for /lib64/ld-linux-x86-64.so.2\n",
      "/home/pika/anaconda3/compiler_compat/ld: cannot find /lib64/ld-linux-x86-64.so.2\n",
      "/home/pika/anaconda3/compiler_compat/ld: /lib64/ld-linux-x86-64.so.2: unknown type [0x13] section `.relr.dyn'\n",
      "/home/pika/anaconda3/compiler_compat/ld: skipping incompatible /lib64/ld-linux-x86-64.so.2 when searching for /lib64/ld-linux-x86-64.so.2\n",
      "collect2: error: ld returned 1 exit status\n"
     ]
    },
    {
     "ename": "LinkError",
     "evalue": "command '/usr/bin/gcc' failed with exit code 1",
     "output_type": "error",
     "traceback": [
      "\u001b[0;31m---------------------------------------------------------------------------\u001b[0m",
      "\u001b[0;31mDistutilsExecError\u001b[0m                        Traceback (most recent call last)",
      "File \u001b[0;32m~/anaconda3/lib/python3.9/site-packages/setuptools/_distutils/unixccompiler.py:249\u001b[0m, in \u001b[0;36mUnixCCompiler.link\u001b[0;34m(self, target_desc, objects, output_filename, output_dir, libraries, library_dirs, runtime_library_dirs, export_symbols, debug, extra_preargs, extra_postargs, build_temp, target_lang)\u001b[0m\n\u001b[1;32m    247\u001b[0m     linker \u001b[39m=\u001b[39m compiler_fixup(linker, ld_args)\n\u001b[0;32m--> 249\u001b[0m     \u001b[39mself\u001b[39;49m\u001b[39m.\u001b[39;49mspawn(linker \u001b[39m+\u001b[39;49m ld_args)\n\u001b[1;32m    250\u001b[0m \u001b[39mexcept\u001b[39;00m DistutilsExecError \u001b[39mas\u001b[39;00m msg:\n",
      "File \u001b[0;32m~/anaconda3/lib/python3.9/site-packages/setuptools/_distutils/ccompiler.py:917\u001b[0m, in \u001b[0;36mCCompiler.spawn\u001b[0;34m(self, cmd, **kwargs)\u001b[0m\n\u001b[1;32m    916\u001b[0m \u001b[39mdef\u001b[39;00m \u001b[39mspawn\u001b[39m(\u001b[39mself\u001b[39m, cmd, \u001b[39m*\u001b[39m\u001b[39m*\u001b[39mkwargs):\n\u001b[0;32m--> 917\u001b[0m     spawn(cmd, dry_run\u001b[39m=\u001b[39;49m\u001b[39mself\u001b[39;49m\u001b[39m.\u001b[39;49mdry_run, \u001b[39m*\u001b[39;49m\u001b[39m*\u001b[39;49mkwargs)\n",
      "File \u001b[0;32m~/anaconda3/lib/python3.9/site-packages/setuptools/_distutils/spawn.py:68\u001b[0m, in \u001b[0;36mspawn\u001b[0;34m(cmd, search_path, verbose, dry_run, env)\u001b[0m\n\u001b[1;32m     67\u001b[0m     cmd \u001b[39m=\u001b[39m cmd[\u001b[39m0\u001b[39m]\n\u001b[0;32m---> 68\u001b[0m \u001b[39mraise\u001b[39;00m DistutilsExecError(\n\u001b[1;32m     69\u001b[0m       \u001b[39m\"\u001b[39m\u001b[39mcommand \u001b[39m\u001b[39m%r\u001b[39;00m\u001b[39m failed with exit code \u001b[39m\u001b[39m%s\u001b[39;00m\u001b[39m\"\u001b[39m \u001b[39m%\u001b[39m (cmd, exitcode))\n",
      "\u001b[0;31mDistutilsExecError\u001b[0m: command '/usr/bin/gcc' failed with exit code 1",
      "\nDuring handling of the above exception, another exception occurred:\n",
      "\u001b[0;31mLinkError\u001b[0m                                 Traceback (most recent call last)",
      "\u001b[1;32m/home/pika/Sem 4 Notes/EE2703 -APL/Week8/Week8.ipynb Cell 8\u001b[0m in \u001b[0;36m<cell line: 1>\u001b[0;34m()\u001b[0m\n\u001b[0;32m----> <a href='vscode-notebook-cell:/home/pika/Sem%204%20Notes/EE2703%20-APL/Week8/Week8.ipynb#X10sZmlsZQ%3D%3D?line=0'>1</a>\u001b[0m get_ipython()\u001b[39m.\u001b[39;49mrun_cell_magic(\u001b[39m'\u001b[39;49m\u001b[39mcython\u001b[39;49m\u001b[39m'\u001b[39;49m, \u001b[39m'\u001b[39;49m\u001b[39m--annotate\u001b[39;49m\u001b[39m'\u001b[39;49m, \u001b[39m'\u001b[39;49m\u001b[39m\\n\u001b[39;49;00m\u001b[39mdef cbasic_isPrime(n):\u001b[39;49m\u001b[39m\\n\u001b[39;49;00m\u001b[39m    for i in range(2,int(n**0.5)+1):\u001b[39;49m\u001b[39m\\n\u001b[39;49;00m\u001b[39m        if n\u001b[39;49m\u001b[39m%i\u001b[39;49;00m\u001b[39m==0:\u001b[39;49m\u001b[39m\\n\u001b[39;49;00m\u001b[39m            return False\u001b[39;49m\u001b[39m\\n\u001b[39;49;00m\u001b[39m        \u001b[39;49m\u001b[39m\\n\u001b[39;49;00m\u001b[39m    return True\u001b[39;49m\u001b[39m\\n\u001b[39;49;00m\u001b[39m'\u001b[39;49m)\n",
      "File \u001b[0;32m~/anaconda3/lib/python3.9/site-packages/IPython/core/interactiveshell.py:2347\u001b[0m, in \u001b[0;36mInteractiveShell.run_cell_magic\u001b[0;34m(self, magic_name, line, cell)\u001b[0m\n\u001b[1;32m   2345\u001b[0m \u001b[39mwith\u001b[39;00m \u001b[39mself\u001b[39m\u001b[39m.\u001b[39mbuiltin_trap:\n\u001b[1;32m   2346\u001b[0m     args \u001b[39m=\u001b[39m (magic_arg_s, cell)\n\u001b[0;32m-> 2347\u001b[0m     result \u001b[39m=\u001b[39m fn(\u001b[39m*\u001b[39;49margs, \u001b[39m*\u001b[39;49m\u001b[39m*\u001b[39;49mkwargs)\n\u001b[1;32m   2348\u001b[0m \u001b[39mreturn\u001b[39;00m result\n",
      "File \u001b[0;32m~/anaconda3/lib/python3.9/site-packages/Cython/Build/IpythonMagic.py:345\u001b[0m, in \u001b[0;36mCythonMagics.cython\u001b[0;34m(self, line, cell)\u001b[0m\n\u001b[1;32m    342\u001b[0m         \u001b[39mself\u001b[39m\u001b[39m.\u001b[39m_profile_pgo_wrapper(extension, lib_dir)\n\u001b[1;32m    344\u001b[0m \u001b[39mtry\u001b[39;00m:\n\u001b[0;32m--> 345\u001b[0m     \u001b[39mself\u001b[39;49m\u001b[39m.\u001b[39;49m_build_extension(extension, lib_dir, pgo_step_name\u001b[39m=\u001b[39;49m\u001b[39m'\u001b[39;49m\u001b[39muse\u001b[39;49m\u001b[39m'\u001b[39;49m \u001b[39mif\u001b[39;49;00m args\u001b[39m.\u001b[39;49mpgo \u001b[39melse\u001b[39;49;00m \u001b[39mNone\u001b[39;49;00m,\n\u001b[1;32m    346\u001b[0m                           quiet\u001b[39m=\u001b[39;49margs\u001b[39m.\u001b[39;49mquiet)\n\u001b[1;32m    347\u001b[0m \u001b[39mexcept\u001b[39;00m distutils\u001b[39m.\u001b[39merrors\u001b[39m.\u001b[39mCompileError:\n\u001b[1;32m    348\u001b[0m     \u001b[39m# Build failed and printed error message\u001b[39;00m\n\u001b[1;32m    349\u001b[0m     \u001b[39mreturn\u001b[39;00m \u001b[39mNone\u001b[39;00m\n",
      "File \u001b[0;32m~/anaconda3/lib/python3.9/site-packages/Cython/Build/IpythonMagic.py:459\u001b[0m, in \u001b[0;36mCythonMagics._build_extension\u001b[0;34m(self, extension, lib_dir, temp_dir, pgo_step_name, quiet)\u001b[0m\n\u001b[1;32m    457\u001b[0m     \u001b[39mif\u001b[39;00m \u001b[39mnot\u001b[39;00m quiet:\n\u001b[1;32m    458\u001b[0m         old_threshold \u001b[39m=\u001b[39m distutils\u001b[39m.\u001b[39mlog\u001b[39m.\u001b[39mset_threshold(distutils\u001b[39m.\u001b[39mlog\u001b[39m.\u001b[39mDEBUG)\n\u001b[0;32m--> 459\u001b[0m     build_extension\u001b[39m.\u001b[39;49mrun()\n\u001b[1;32m    460\u001b[0m \u001b[39mfinally\u001b[39;00m:\n\u001b[1;32m    461\u001b[0m     \u001b[39mif\u001b[39;00m \u001b[39mnot\u001b[39;00m quiet \u001b[39mand\u001b[39;00m old_threshold \u001b[39mis\u001b[39;00m \u001b[39mnot\u001b[39;00m \u001b[39mNone\u001b[39;00m:\n",
      "File \u001b[0;32m~/anaconda3/lib/python3.9/site-packages/setuptools/_distutils/command/build_ext.py:339\u001b[0m, in \u001b[0;36mbuild_ext.run\u001b[0;34m(self)\u001b[0m\n\u001b[1;32m    336\u001b[0m     \u001b[39mself\u001b[39m\u001b[39m.\u001b[39mcompiler\u001b[39m.\u001b[39mset_link_objects(\u001b[39mself\u001b[39m\u001b[39m.\u001b[39mlink_objects)\n\u001b[1;32m    338\u001b[0m \u001b[39m# Now actually compile and link everything.\u001b[39;00m\n\u001b[0;32m--> 339\u001b[0m \u001b[39mself\u001b[39;49m\u001b[39m.\u001b[39;49mbuild_extensions()\n",
      "File \u001b[0;32m~/anaconda3/lib/python3.9/site-packages/setuptools/_distutils/command/build_ext.py:448\u001b[0m, in \u001b[0;36mbuild_ext.build_extensions\u001b[0;34m(self)\u001b[0m\n\u001b[1;32m    446\u001b[0m     \u001b[39mself\u001b[39m\u001b[39m.\u001b[39m_build_extensions_parallel()\n\u001b[1;32m    447\u001b[0m \u001b[39melse\u001b[39;00m:\n\u001b[0;32m--> 448\u001b[0m     \u001b[39mself\u001b[39;49m\u001b[39m.\u001b[39;49m_build_extensions_serial()\n",
      "File \u001b[0;32m~/anaconda3/lib/python3.9/site-packages/setuptools/_distutils/command/build_ext.py:473\u001b[0m, in \u001b[0;36mbuild_ext._build_extensions_serial\u001b[0;34m(self)\u001b[0m\n\u001b[1;32m    471\u001b[0m \u001b[39mfor\u001b[39;00m ext \u001b[39min\u001b[39;00m \u001b[39mself\u001b[39m\u001b[39m.\u001b[39mextensions:\n\u001b[1;32m    472\u001b[0m     \u001b[39mwith\u001b[39;00m \u001b[39mself\u001b[39m\u001b[39m.\u001b[39m_filter_build_errors(ext):\n\u001b[0;32m--> 473\u001b[0m         \u001b[39mself\u001b[39;49m\u001b[39m.\u001b[39;49mbuild_extension(ext)\n",
      "File \u001b[0;32m~/anaconda3/lib/python3.9/site-packages/setuptools/_distutils/command/build_ext.py:550\u001b[0m, in \u001b[0;36mbuild_ext.build_extension\u001b[0;34m(self, ext)\u001b[0m\n\u001b[1;32m    547\u001b[0m \u001b[39m# Detect target language, if not provided\u001b[39;00m\n\u001b[1;32m    548\u001b[0m language \u001b[39m=\u001b[39m ext\u001b[39m.\u001b[39mlanguage \u001b[39mor\u001b[39;00m \u001b[39mself\u001b[39m\u001b[39m.\u001b[39mcompiler\u001b[39m.\u001b[39mdetect_language(sources)\n\u001b[0;32m--> 550\u001b[0m \u001b[39mself\u001b[39;49m\u001b[39m.\u001b[39;49mcompiler\u001b[39m.\u001b[39;49mlink_shared_object(\n\u001b[1;32m    551\u001b[0m     objects, ext_path,\n\u001b[1;32m    552\u001b[0m     libraries\u001b[39m=\u001b[39;49m\u001b[39mself\u001b[39;49m\u001b[39m.\u001b[39;49mget_libraries(ext),\n\u001b[1;32m    553\u001b[0m     library_dirs\u001b[39m=\u001b[39;49mext\u001b[39m.\u001b[39;49mlibrary_dirs,\n\u001b[1;32m    554\u001b[0m     runtime_library_dirs\u001b[39m=\u001b[39;49mext\u001b[39m.\u001b[39;49mruntime_library_dirs,\n\u001b[1;32m    555\u001b[0m     extra_postargs\u001b[39m=\u001b[39;49mextra_args,\n\u001b[1;32m    556\u001b[0m     export_symbols\u001b[39m=\u001b[39;49m\u001b[39mself\u001b[39;49m\u001b[39m.\u001b[39;49mget_export_symbols(ext),\n\u001b[1;32m    557\u001b[0m     debug\u001b[39m=\u001b[39;49m\u001b[39mself\u001b[39;49m\u001b[39m.\u001b[39;49mdebug,\n\u001b[1;32m    558\u001b[0m     build_temp\u001b[39m=\u001b[39;49m\u001b[39mself\u001b[39;49m\u001b[39m.\u001b[39;49mbuild_temp,\n\u001b[1;32m    559\u001b[0m     target_lang\u001b[39m=\u001b[39;49mlanguage)\n",
      "File \u001b[0;32m~/anaconda3/lib/python3.9/site-packages/setuptools/_distutils/ccompiler.py:713\u001b[0m, in \u001b[0;36mCCompiler.link_shared_object\u001b[0;34m(self, objects, output_filename, output_dir, libraries, library_dirs, runtime_library_dirs, export_symbols, debug, extra_preargs, extra_postargs, build_temp, target_lang)\u001b[0m\n\u001b[1;32m    700\u001b[0m \u001b[39mdef\u001b[39;00m \u001b[39mlink_shared_object\u001b[39m(\u001b[39mself\u001b[39m,\n\u001b[1;32m    701\u001b[0m                        objects,\n\u001b[1;32m    702\u001b[0m                        output_filename,\n\u001b[0;32m   (...)\u001b[0m\n\u001b[1;32m    711\u001b[0m                        build_temp\u001b[39m=\u001b[39m\u001b[39mNone\u001b[39;00m,\n\u001b[1;32m    712\u001b[0m                        target_lang\u001b[39m=\u001b[39m\u001b[39mNone\u001b[39;00m):\n\u001b[0;32m--> 713\u001b[0m     \u001b[39mself\u001b[39;49m\u001b[39m.\u001b[39;49mlink(CCompiler\u001b[39m.\u001b[39;49mSHARED_OBJECT, objects,\n\u001b[1;32m    714\u001b[0m               output_filename, output_dir,\n\u001b[1;32m    715\u001b[0m               libraries, library_dirs, runtime_library_dirs,\n\u001b[1;32m    716\u001b[0m               export_symbols, debug,\n\u001b[1;32m    717\u001b[0m               extra_preargs, extra_postargs, build_temp, target_lang)\n",
      "File \u001b[0;32m~/anaconda3/lib/python3.9/site-packages/setuptools/_distutils/unixccompiler.py:251\u001b[0m, in \u001b[0;36mUnixCCompiler.link\u001b[0;34m(self, target_desc, objects, output_filename, output_dir, libraries, library_dirs, runtime_library_dirs, export_symbols, debug, extra_preargs, extra_postargs, build_temp, target_lang)\u001b[0m\n\u001b[1;32m    249\u001b[0m         \u001b[39mself\u001b[39m\u001b[39m.\u001b[39mspawn(linker \u001b[39m+\u001b[39m ld_args)\n\u001b[1;32m    250\u001b[0m     \u001b[39mexcept\u001b[39;00m DistutilsExecError \u001b[39mas\u001b[39;00m msg:\n\u001b[0;32m--> 251\u001b[0m         \u001b[39mraise\u001b[39;00m LinkError(msg)\n\u001b[1;32m    252\u001b[0m \u001b[39melse\u001b[39;00m:\n\u001b[1;32m    253\u001b[0m     log\u001b[39m.\u001b[39mdebug(\u001b[39m\"\u001b[39m\u001b[39mskipping \u001b[39m\u001b[39m%s\u001b[39;00m\u001b[39m (up-to-date)\u001b[39m\u001b[39m\"\u001b[39m, output_filename)\n",
      "\u001b[0;31mLinkError\u001b[0m: command '/usr/bin/gcc' failed with exit code 1"
     ]
    }
   ],
   "source": [
    "%%cython --annotate\n",
    "\n",
    "def cbasic_isPrime(n):\n",
    "    for i in range(2,int(n**0.5)+1):\n",
    "        if n%i==0:\n",
    "            return False\n",
    "        \n",
    "    return True"
   ]
  },
  {
   "cell_type": "code",
   "execution_count": 3,
   "id": "e86d216a-7f4f-4ea0-ba27-3918836118e8",
   "metadata": {},
   "outputs": [
    {
     "ename": "NameError",
     "evalue": "name 'cbasic_isPrime' is not defined",
     "output_type": "error",
     "traceback": [
      "\u001b[0;31m---------------------------------------------------------------------------\u001b[0m",
      "\u001b[0;31mNameError\u001b[0m                                 Traceback (most recent call last)",
      "\u001b[1;32m/home/pika/Sem 4 Notes/EE2703 -APL/Week8/Week8.ipynb Cell 9\u001b[0m in \u001b[0;36m<cell line: 1>\u001b[0;34m()\u001b[0m\n\u001b[0;32m----> <a href='vscode-notebook-cell:/home/pika/Sem%204%20Notes/EE2703%20-APL/Week8/Week8.ipynb#X32sZmlsZQ%3D%3D?line=0'>1</a>\u001b[0m get_ipython()\u001b[39m.\u001b[39;49mrun_line_magic(\u001b[39m'\u001b[39;49m\u001b[39mtimeit\u001b[39;49m\u001b[39m'\u001b[39;49m, \u001b[39m'\u001b[39;49m\u001b[39mcbasic_isPrime(999999937)\u001b[39;49m\u001b[39m'\u001b[39;49m)\n",
      "File \u001b[0;32m~/anaconda3/lib/python3.9/site-packages/IPython/core/interactiveshell.py:2294\u001b[0m, in \u001b[0;36mInteractiveShell.run_line_magic\u001b[0;34m(self, magic_name, line, _stack_depth)\u001b[0m\n\u001b[1;32m   2292\u001b[0m     kwargs[\u001b[39m'\u001b[39m\u001b[39mlocal_ns\u001b[39m\u001b[39m'\u001b[39m] \u001b[39m=\u001b[39m \u001b[39mself\u001b[39m\u001b[39m.\u001b[39mget_local_scope(stack_depth)\n\u001b[1;32m   2293\u001b[0m \u001b[39mwith\u001b[39;00m \u001b[39mself\u001b[39m\u001b[39m.\u001b[39mbuiltin_trap:\n\u001b[0;32m-> 2294\u001b[0m     result \u001b[39m=\u001b[39m fn(\u001b[39m*\u001b[39;49margs, \u001b[39m*\u001b[39;49m\u001b[39m*\u001b[39;49mkwargs)\n\u001b[1;32m   2295\u001b[0m \u001b[39mreturn\u001b[39;00m result\n",
      "File \u001b[0;32m~/anaconda3/lib/python3.9/site-packages/IPython/core/magics/execution.py:1162\u001b[0m, in \u001b[0;36mExecutionMagics.timeit\u001b[0;34m(self, line, cell, local_ns)\u001b[0m\n\u001b[1;32m   1160\u001b[0m \u001b[39mfor\u001b[39;00m index \u001b[39min\u001b[39;00m \u001b[39mrange\u001b[39m(\u001b[39m0\u001b[39m, \u001b[39m10\u001b[39m):\n\u001b[1;32m   1161\u001b[0m     number \u001b[39m=\u001b[39m \u001b[39m10\u001b[39m \u001b[39m*\u001b[39m\u001b[39m*\u001b[39m index\n\u001b[0;32m-> 1162\u001b[0m     time_number \u001b[39m=\u001b[39m timer\u001b[39m.\u001b[39;49mtimeit(number)\n\u001b[1;32m   1163\u001b[0m     \u001b[39mif\u001b[39;00m time_number \u001b[39m>\u001b[39m\u001b[39m=\u001b[39m \u001b[39m0.2\u001b[39m:\n\u001b[1;32m   1164\u001b[0m         \u001b[39mbreak\u001b[39;00m\n",
      "File \u001b[0;32m~/anaconda3/lib/python3.9/site-packages/IPython/core/magics/execution.py:156\u001b[0m, in \u001b[0;36mTimer.timeit\u001b[0;34m(self, number)\u001b[0m\n\u001b[1;32m    154\u001b[0m gc\u001b[39m.\u001b[39mdisable()\n\u001b[1;32m    155\u001b[0m \u001b[39mtry\u001b[39;00m:\n\u001b[0;32m--> 156\u001b[0m     timing \u001b[39m=\u001b[39m \u001b[39mself\u001b[39;49m\u001b[39m.\u001b[39;49minner(it, \u001b[39mself\u001b[39;49m\u001b[39m.\u001b[39;49mtimer)\n\u001b[1;32m    157\u001b[0m \u001b[39mfinally\u001b[39;00m:\n\u001b[1;32m    158\u001b[0m     \u001b[39mif\u001b[39;00m gcold:\n",
      "File \u001b[0;32m<magic-timeit>:1\u001b[0m, in \u001b[0;36minner\u001b[0;34m(_it, _timer)\u001b[0m\n",
      "\u001b[0;31mNameError\u001b[0m: name 'cbasic_isPrime' is not defined"
     ]
    }
   ],
   "source": [
    "%timeit cbasic_isPrime(999999937)"
   ]
  },
  {
   "cell_type": "markdown",
   "id": "a7d9f22b-3952-4883-831f-cbeb1c6e3045",
   "metadata": {},
   "source": [
    "### Optimized\n",
    "\n",
    "Now apply several optimizations"
   ]
  },
  {
   "cell_type": "code",
   "execution_count": null,
   "id": "2487e566-d72f-4066-90ce-4532a4e9738e",
   "metadata": {},
   "outputs": [],
   "source": [
    "%%cython --annotate\n",
    "\n",
    "import cython\n",
    "\n",
    "@cython.cdivision(True)\n",
    "def c_isPrime(int n):\n",
    "    cdef int i\n",
    "    cdef float sqrtn = (n**0.5)\n",
    "    cdef int lim = int(sqrtn)+1\n",
    "    for i in range(2,lim):\n",
    "        if n%i==0:\n",
    "            return False\n",
    "        \n",
    "    return True"
   ]
  },
  {
   "cell_type": "code",
   "execution_count": null,
   "id": "35034636-6d73-4640-b463-b9520381faf6",
   "metadata": {},
   "outputs": [],
   "source": [
    "%timeit c_isPrime(999999937)"
   ]
  },
  {
   "cell_type": "markdown",
   "id": "180d5919-995d-45fd-9841-4106aefb95cc",
   "metadata": {},
   "source": [
    "# A bigger example\n",
    "\n",
    "The sum of amicable numbers problem was used in one of the quizzes, and is a somewhat hard problem to solve, as it takes a significant amount of time to run."
   ]
  },
  {
   "cell_type": "code",
   "execution_count": null,
   "id": "46b10e3e-2225-4bc1-844f-3a3b115aa39a",
   "metadata": {},
   "outputs": [],
   "source": [
    "def aliquot(n):\n",
    "    sum = 0 if n==1 else 1  \n",
    "    for i in range(2, n // 2 + 1):\n",
    "        if n % i == 0: \n",
    "            sum += i\n",
    "    return sum \n",
    "\n",
    "def amicable(n1, n2):\n",
    "    s1 = aliquot(n1)\n",
    "    s2 = aliquot(n2)\n",
    "    if n1 != n2 and s1 == n2 and s2 == n1:\n",
    "        return True\n",
    "    else:\n",
    "        return False \n",
    "    # print(f\"aliquot({n}) = {s}\")\n",
    "    \n",
    "def amsum(N):\n",
    "    aliq = [0] * (N+1)\n",
    "    for i in range(2, N+1):\n",
    "        aliq[i] = aliquot(i)\n",
    "\n",
    "    sum = 0\n",
    "    for i in range(2, N+1):\n",
    "        if aliq[i] <= N and i != aliq[i] and i == aliq[aliq[i]]:\n",
    "            # print(f\"Amicable: {i} and {aliq[i]}\")\n",
    "            sum += i\n",
    "    return sum "
   ]
  },
  {
   "cell_type": "code",
   "execution_count": null,
   "id": "c8cba05c-25a1-44a7-92a8-7cd9a0582653",
   "metadata": {},
   "outputs": [],
   "source": [
    "%timeit amsum(10000)"
   ]
  },
  {
   "cell_type": "code",
   "execution_count": null,
   "id": "3d5c4c1a-a2a2-4215-83c4-eeaaea9c5666",
   "metadata": {},
   "outputs": [],
   "source": [
    "%%cython --annotate\n",
    "\n",
    "import cython\n",
    "\n",
    "@cython.cdivision(True)\n",
    "cpdef c_aliquot(int n):\n",
    "    cdef int sum\n",
    "    cdef int i\n",
    "    sum = 0 if n==1 else 1  \n",
    "    for i in range(2, n // 2 + 1):\n",
    "        if n % i == 0: \n",
    "            sum += i\n",
    "    return sum \n",
    "\n",
    "def c_amsum(int N):\n",
    "    # Hack follows since we need to statically allocate - use malloc instead\n",
    "    cdef int[100000] aliq \n",
    "    cdef int i\n",
    "    cdef int sum\n",
    "    for i in range(2, N+1):\n",
    "        aliq[i] = c_aliquot(i)\n",
    "\n",
    "    sum = 0\n",
    "    for i in range(2, N+1):\n",
    "        if aliq[i] <= N and i != aliq[i] and i == aliq[aliq[i]]:\n",
    "            # print(f\"Amicable: {i} and {aliq[i]}\")\n",
    "            sum += i\n",
    "    return sum "
   ]
  },
  {
   "cell_type": "code",
   "execution_count": null,
   "id": "e810a2f8-f350-4b50-926d-73a367b59cac",
   "metadata": {},
   "outputs": [],
   "source": [
    "%timeit c_amsum(70000)"
   ]
  },
  {
   "cell_type": "code",
   "execution_count": null,
   "id": "e81932db-b4de-4f43-a853-bf6fde24294e",
   "metadata": {},
   "outputs": [],
   "source": []
  }
 ],
 "metadata": {
  "kernelspec": {
   "display_name": "Python 3 (ipykernel)",
   "language": "python",
   "name": "python3"
  },
  "language_info": {
   "codemirror_mode": {
    "name": "ipython",
    "version": 3
   },
   "file_extension": ".py",
   "mimetype": "text/x-python",
   "name": "python",
   "nbconvert_exporter": "python",
   "pygments_lexer": "ipython3",
   "version": "3.9.12"
  }
 },
 "nbformat": 4,
 "nbformat_minor": 5
}
