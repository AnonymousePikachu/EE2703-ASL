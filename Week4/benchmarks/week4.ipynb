{
 "cells": [
  {
   "cell_type": "code",
   "execution_count": 65,
   "metadata": {},
   "outputs": [
    {
     "name": "stdout",
     "output_type": "stream",
     "text": [
      "[('A', {'gateType': 'PI'}), ('D', {'gateType': 'AND2'}), ('B', {'gateType': 'PI'}), ('E', {'gateType': 'XOR2'}), ('G', {'gateType': 'AND2'}), ('C', {'gateType': 'PI'}), ('F', {'gateType': 'INV'}), ('I', {'gateType': 'OR2'}), ('H', {'gateType': 'AND2'}), ('J', {'gateType': 'OR2'})]\n"
     ]
    },
    {
     "ename": "TypeError",
     "evalue": "'NodeDataView' object is not callable",
     "output_type": "error",
     "traceback": [
      "\u001b[0;31m---------------------------------------------------------------------------\u001b[0m",
      "\u001b[0;31mTypeError\u001b[0m                                 Traceback (most recent call last)",
      "\u001b[1;32m/home/pika/Sem 4 Notes/EE2703 -APL/Week4/benchmarks/week4.ipynb Cell 1\u001b[0m in \u001b[0;36m<cell line: 9>\u001b[0;34m()\u001b[0m\n\u001b[1;32m      <a href='vscode-notebook-cell:/home/pika/Sem%204%20Notes/EE2703%20-APL/Week4/benchmarks/week4.ipynb#W0sZmlsZQ%3D%3D?line=6'>7</a>\u001b[0m \u001b[39mprint\u001b[39m(g\u001b[39m.\u001b[39mnodes(data\u001b[39m=\u001b[39m\u001b[39mTrue\u001b[39;00m))\n\u001b[1;32m      <a href='vscode-notebook-cell:/home/pika/Sem%204%20Notes/EE2703%20-APL/Week4/benchmarks/week4.ipynb#W0sZmlsZQ%3D%3D?line=7'>8</a>\u001b[0m \u001b[39m# sort the nodes in topological order\u001b[39;00m\n\u001b[0;32m----> <a href='vscode-notebook-cell:/home/pika/Sem%204%20Notes/EE2703%20-APL/Week4/benchmarks/week4.ipynb#W0sZmlsZQ%3D%3D?line=8'>9</a>\u001b[0m nl \u001b[39m=\u001b[39m \u001b[39mlist\u001b[39;49m(nx\u001b[39m.\u001b[39;49mtopological_sort(g))\n\u001b[1;32m     <a href='vscode-notebook-cell:/home/pika/Sem%204%20Notes/EE2703%20-APL/Week4/benchmarks/week4.ipynb#W0sZmlsZQ%3D%3D?line=9'>10</a>\u001b[0m \u001b[39mprint\u001b[39m(\u001b[39m'\u001b[39m\u001b[39mNodes in topological order\u001b[39m\u001b[39m'\u001b[39m,nl)\n\u001b[1;32m     <a href='vscode-notebook-cell:/home/pika/Sem%204%20Notes/EE2703%20-APL/Week4/benchmarks/week4.ipynb#W0sZmlsZQ%3D%3D?line=10'>11</a>\u001b[0m \u001b[39m# find children of a node\u001b[39;00m\n",
      "\u001b[0;31mTypeError\u001b[0m: 'NodeDataView' object is not callable"
     ]
    }
   ],
   "source": [
    "import networkx as nx\n",
    "# create a DAG\n",
    "g = nx.DiGraph()\n",
    "# add nl[j]s and edges to the DAG\n",
    "g.add_edges_from([(\"A\", \"D\"), (\"B\", \"D\"), (\"B\", \"E\"), (\"B\", \"G\"), (\"C\", \"E\"),(\"C\", \"F\"), (\"D\", \"I\"), (\"E\", \"G\"),(\"E\", \"H\"), (\"F\", \"H\"), (\"G\", \"I\"), (\"G\",\"J\"), (\"H\", \"J\")])\n",
    "nx.set_node_attributes(g, {\"A\": \"PI\", \"B\": \"PI\", \"C\":\"PI\", \"D\":\"AND2\", \"E\":\"XOR2\", \"F\":\"INV\", \"G\":\"AND2\", \"H\":\"AND2\", \"I\":\"OR2\", \"J\":\"OR2\"},name=\"gateType\")\n",
    "print(g.nodes(data=True))\n",
    "# sort the nodes in topological order\n",
    "nl = list(nx.topological_sort(g))\n",
    "print('Nodes in topological order',nl)\n",
    "# find children of a node\n",
    "print('Successors of node B', list(g.successors(\"B\")))\n",
    "# find parents of a node\n",
    "print('Parents of node H', list(g.predecessors(\"H\")))\n",
    "['C', 'F', 'A', 'B', 'D', 'E', 'G', 'H', 'I', 'J']"
   ]
  },
  {
   "attachments": {},
   "cell_type": "markdown",
   "metadata": {},
   "source": [
    "# Getting the input from the netlist file"
   ]
  },
  {
   "cell_type": "code",
   "execution_count": 1,
   "metadata": {},
   "outputs": [
    {
     "name": "stdout",
     "output_type": "stream",
     "text": [
      "[{'N1': '0', 'N2': '1', 'N3': '0', 'N6': '0', 'N7': '0'}, {'N1': '0', 'N2': '0', 'N3': '1', 'N6': '0', 'N7': '0'}, {'N1': '1', 'N2': '0', 'N3': '0', 'N6': '0', 'N7': '0'}, {'N1': '0', 'N2': '0', 'N3': '1', 'N6': '1', 'N7': '1'}, {'N1': '1', 'N2': '1', 'N3': '1', 'N6': '1', 'N7': '1'}, {'N1': '1', 'N2': '1', 'N3': '1', 'N6': '0', 'N7': '0'}, {'N1': '1', 'N2': '1', 'N3': '1', 'N6': '1', 'N7': '0'}, {'N1': '1', 'N2': '1', 'N3': '0', 'N6': '0', 'N7': '0'}, {'N1': '0', 'N2': '1', 'N3': '1', 'N6': '0', 'N7': '1'}, {'N1': '0', 'N2': '0', 'N3': '1', 'N6': '1', 'N7': '0'}]\n",
      "DiGraph with 11 nodes and 12 edges\n",
      "Nodes in topological order ['N2', 'N7', 'N1', 'N3', 'N6', 'n_0', 'n_1', 'n_3', 'n_2', 'N22', 'N23']\n"
     ]
    }
   ],
   "source": [
    "\n",
    "# The program will throw in an error if there isn't exactly 2 arguments in the commandline.\n",
    "# if len(argv)!=2:\n",
    "# \tprint(\"Please provide the correct 2 arguments in the commandline.\")\n",
    "# \texit()\n",
    "import networkx as nx\n",
    "\n",
    "class Component:\n",
    "\tdef __init__(self,name,g_type,input,output):\n",
    "\t\tself.name = name\n",
    "\t\tself.g_type = g_type\n",
    "\t\tself.input = input\n",
    "\t\tself.output = output\n",
    "l = []\n",
    "\t# Opening the file mentioned in the commandline.\n",
    "with open(\"c17.net\") as f:\n",
    "    lines = f.readlines()\n",
    "    for line in lines:\n",
    "        name,g_type,*input= line.split()\n",
    "        output = line.split()[-1]\n",
    "        Gate = Component(name,g_type,input,output)\n",
    "        l.append(Gate)\n",
    "\n",
    "edges = []\n",
    "g = nx.DiGraph()\n",
    "for gate in l:\n",
    "    if len(gate.input) == 3:\n",
    "        edges.append((gate.input[0],gate.output))\n",
    "        edges.append((gate.input[1],gate.output))\n",
    "    else:\n",
    "        edges.append((gate.input[0],gate.output))\n",
    "\n",
    "g.add_edges_from(edges)\n",
    "value = []\n",
    "with open(\"c17.inputs\") as file:\n",
    "    lineIn = file.readlines()\n",
    "    pi = lineIn[0].split()\n",
    "    for i in range(len(lineIn)-1):\n",
    "        value.append({})\n",
    "        for j in range(len(pi)):\n",
    "            value[i].update({lineIn[0].split()[j]:lineIn[i+1].split()[j]})\n",
    "\n",
    "print(value)\n",
    "gate_type = {}\n",
    "\n",
    "for node in pi:\n",
    "     gate_type.update({node:\"PI\"})\n",
    "\n",
    "for node in l:\n",
    "     gate_type.update({node.output:node.g_type})\n",
    "nx.set_node_attributes(g,gate_type,name = \"gateType\")\n",
    "\n",
    "nl = list(nx.topological_sort(g))\n",
    "print(g)\n",
    "print('Nodes in topological order',nl)\n",
    "\n"
   ]
  },
  {
   "attachments": {},
   "cell_type": "markdown",
   "metadata": {},
   "source": [
    "Solving using the topological order"
   ]
  },
  {
   "cell_type": "code",
   "execution_count": 5,
   "metadata": {},
   "outputs": [
    {
     "name": "stdout",
     "output_type": "stream",
     "text": [
      "{'N1': '0', 'N2': '1', 'N3': '0', 'N6': '0', 'N7': '0', 'n_0': 1, 'n_1': 1, 'n_3': 0, 'n_2': 1, 'N22': 1, 'N23': 1}\n"
     ]
    }
   ],
   "source": [
    "\n",
    "Graph = g.nodes(data=True)\n",
    "\n",
    "typemap= {}\n",
    "for item in Graph:\n",
    "    typemap.update({item[0]:item[1][\"gateType\"]})\n",
    "\n",
    "for i in range(len(lineIn)-1):   \n",
    "   \n",
    "   for j in range(len(pi),len(nl)):\n",
    "      p = list(g.predecessors(nl[j]))\n",
    "      out = 0 \n",
    "      \n",
    "      if typemap[nl[j]] == \"nand2\":\n",
    "         a =  int(value[i][p[0]]) * int(value[i][p[1]])\n",
    "         if a == 0 :\n",
    "            out = 1\n",
    "            \n",
    "      if typemap[nl[j]] == \"and2\":\n",
    "         out =  p[0] * p[1]\n",
    "\n",
    "      if typemap[nl[j]] == \"nor2\":\n",
    "         if p[0] + p[1] < 1:\n",
    "            out = 1\n",
    "      \n",
    "      if typemap[nl[j]] == \"or2\":\n",
    "         if p[0] + p[1] > 1:\n",
    "            out = 1\n",
    "\n",
    "      if typemap[nl[j]] == \"inv\":\n",
    "         if p[0] == 0:\n",
    "            out = 1\n",
    "\n",
    "      if typemap[nl[j]] == \"xnor2\":\n",
    "         if p[0] == p[1]:\n",
    "            out = 1\n",
    "\n",
    "      if typemap[nl[j]] == \"or2\":\n",
    "         if p[0] != p[1]:\n",
    "            out = 1\n",
    "      value[i].update({nl[j]:out})\n",
    "print(value[0])\n",
    "           "
   ]
  },
  {
   "attachments": {},
   "cell_type": "markdown",
   "metadata": {},
   "source": [
    "AND2, OR2, NOT, NOR2, NAND2, XOR2, XNOR2"
   ]
  },
  {
   "cell_type": "code",
   "execution_count": 21,
   "metadata": {},
   "outputs": [
    {
     "name": "stdout",
     "output_type": "stream",
     "text": [
      "[{'N1': '0', 'N2': '1', 'N3': '0', 'N6': '0', 'N7': '0'}, {'N1': '0', 'N2': '0', 'N3': '1', 'N6': '0', 'N7': '0'}, {'N1': '1', 'N2': '0', 'N3': '0', 'N6': '0', 'N7': '0'}, {'N1': '0', 'N2': '0', 'N3': '1', 'N6': '1', 'N7': '1'}, {'N1': '1', 'N2': '1', 'N3': '1', 'N6': '1', 'N7': '1'}, {'N1': '1', 'N2': '1', 'N3': '1', 'N6': '0', 'N7': '0'}, {'N1': '1', 'N2': '1', 'N3': '1', 'N6': '1', 'N7': '0'}, {'N1': '1', 'N2': '1', 'N3': '0', 'N6': '0', 'N7': '0'}, {'N1': '0', 'N2': '1', 'N3': '1', 'N6': '0', 'N7': '1'}, {'N1': '0', 'N2': '0', 'N3': '1', 'N6': '1', 'N7': '0'}]\n"
     ]
    }
   ],
   "source": [
    "print(value)"
   ]
  }
 ],
 "metadata": {
  "kernelspec": {
   "display_name": "base",
   "language": "python",
   "name": "python3"
  },
  "language_info": {
   "codemirror_mode": {
    "name": "ipython",
    "version": 3
   },
   "file_extension": ".py",
   "mimetype": "text/x-python",
   "name": "python",
   "nbconvert_exporter": "python",
   "pygments_lexer": "ipython3",
   "version": "3.9.12"
  },
  "orig_nbformat": 4,
  "vscode": {
   "interpreter": {
    "hash": "b76e693b44b3581cdfe447d90b2f450bdb15f1cc32286f81ee9918acfd7cde71"
   }
  }
 },
 "nbformat": 4,
 "nbformat_minor": 2
}
