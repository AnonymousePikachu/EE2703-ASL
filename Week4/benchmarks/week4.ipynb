{
 "cells": [
  {
   "cell_type": "markdown",
   "metadata": {},
   "source": [
    "# Getting the input from the netlist file"
   ]
  },
  {
   "cell_type": "code",
   "execution_count": 12,
   "metadata": {},
   "outputs": [],
   "source": [
    "# Importing the necessary libraries\n",
    "import networkx as nx\n",
    "\n",
    "# Declaring variables for opening the files required\n",
    "netwrok = \"c432.net\"\n",
    "inputs = \"c432.inputs\"\n",
    "\n",
    "# Defining a class to take in the vlaues from the network file\n",
    "class Component:\n",
    "\tdef __init__(self,name,g_type,input,output):\n",
    "\t\tself.name = name\n",
    "\t\tself.g_type = g_type\n",
    "\t\tself.input = input\n",
    "\t\tself.output = output\n",
    "                \n",
    "# Declaring a list to store the components\n",
    "l = []\n",
    "\n",
    "# Opening the file mentioned and storing it in the list\n",
    "with open(netwrok) as f:\n",
    "    lines = f.readlines()\n",
    "    for line in lines:\n",
    "        name,g_type,*input= line.split()\n",
    "        output = line.split()[-1]\n",
    "        Gate = Component(name,g_type,input,output)\n",
    "        l.append(Gate)\n",
    "\n",
    "# Declaring and creating the  edges list for the topoligal sorting\n",
    "edges = []\n",
    "g = nx.DiGraph()\n",
    "for gate in l:\n",
    "    if len(gate.input) == 3:\n",
    "        edges.append((gate.input[0],gate.output))\n",
    "        edges.append((gate.input[1],gate.output))\n",
    "    else:\n",
    "        edges.append((gate.input[0],gate.output))\n",
    "\n",
    "# Making the diGraph for the topological sorting\n",
    "g.add_edges_from(edges)\n",
    "\n",
    "# Taking inputs from the inputs file and storing them in the values list as dictionaries\n",
    "value = []\n",
    "with open(inputs) as file:\n",
    "    lineIn = file.readlines()\n",
    "    pi = lineIn[0].split()\n",
    "    for i in range(len(lineIn)-1):\n",
    "        value.append({})\n",
    "        for j in range(len(pi)):\n",
    "            value[i].update({lineIn[0].split()[j]:lineIn[i+1].split()[j]})\n",
    "value1 = value.copy()\n",
    "\n",
    "# Saving the gate_types of eadh gate as a dictionary for later use in the gate function\n",
    "gate_type = {}\n",
    "for node in pi:\n",
    "     gate_type.update({node:\"PI\"})\n",
    "for node in l:\n",
    "     gate_type.update({node.output:node.g_type})\n",
    "nx.set_node_attributes(g,gate_type,name = \"gateType\")\n",
    "\n",
    "# Making a topologically sorted list of the nodes\n",
    "nl = list(nx.topological_sort(g))"
   ]
  },
  {
   "cell_type": "markdown",
   "metadata": {},
   "source": []
  },
  {
   "cell_type": "markdown",
   "metadata": {},
   "source": [
    "# Solving using the topological order"
   ]
  },
  {
   "cell_type": "code",
   "execution_count": 9,
   "metadata": {},
   "outputs": [],
   "source": [
    "# Iterating through all the input sets given\n",
    "for i in range(len(lineIn)-1):   \n",
    "\n",
    "   # Iterating through the gates except pi\n",
    "   for j in range(len(pi),len(nl)):\n",
    "\n",
    "      # Finding the predecessors of the gate\n",
    "      p = list(g.predecessors(nl[j]))\n",
    "      out = 0 \n",
    "      \n",
    "      # Checking for all types of gates and performing the necessary operations\n",
    "      if gate_type[nl[j]] == \"nand2\":\n",
    "         out = int(not(value[i][p[0]] and value[i][p[1]]))\n",
    "\n",
    "            \n",
    "      if gate_type[nl[j]] == \"and2\":\n",
    "         out = int(value[i][p[0]] and value[i][p[1]])\n",
    "\n",
    "      elif gate_type[nl[j]] == \"nor2\":\n",
    "         out = int(not(value[i][p[0]] or value[i][p[1]]))\n",
    "      \n",
    "      elif gate_type[nl[j]] == \"or2\":\n",
    "         out = int(value[i][p[0]] or value[i][p[1]])\n",
    "\n",
    "      elif gate_type[nl[j]] == \"inv\":\n",
    "         out = int(not(value[i][p[0]]))\n",
    "\n",
    "      elif gate_type[nl[j]] == \"xnor2\":\n",
    "         out = int(not(value[i][p[0]] ^ value[i][p[1]]))\n",
    "\n",
    "      elif gate_type[nl[j]] == \"xor2\":\n",
    "         out = int(value[i][p[0]] ^ value[i][p[1]])\n",
    "      \n",
    "      # Updating the output of the current gate into the value list\n",
    "      value[i].update({nl[j]:out})\n",
    "           "
   ]
  },
  {
   "cell_type": "markdown",
   "metadata": {},
   "source": []
  },
  {
   "cell_type": "markdown",
   "metadata": {},
   "source": [
    "# Using the Event - driven method"
   ]
  },
  {
   "cell_type": "code",
   "execution_count": 10,
   "metadata": {},
   "outputs": [],
   "source": [
    "# Importing the\n",
    "from queue import Queue\n",
    "\n",
    "# Declaring and initializing the queue\n",
    "Event = Queue()\n",
    "for item in nl[:len(pi)]:\n",
    "    Event.put(item)\n",
    "\n",
    "# Iterating through all the input sets given\n",
    "for i in range(len(lineIn)-1):\n",
    "    \n",
    "\n",
    "    while not Event.empty():\n",
    "        e = Event.get()\n",
    "        # Adding the succesors of the thing to the queue only is all the predessors are there in the value list already\n",
    "        for thing in list(g.successors(e)):\n",
    "            if all(elem in value1[i] for elem in list(g.predecessors(thing))):\n",
    "                Event.put(thing)\n",
    "\n",
    "        # Checking if the value of the key already exist\n",
    "        if e not in value1[i]:\n",
    "            print(e)\n",
    "            p = list(g.predecessors(e))\n",
    "            out = 0\n",
    "            \n",
    "            # Checking and executing all the gates\n",
    "            if gate_type[e] == \"nand2\":\n",
    "                out = int(not(value[i][p[0]] and value[i][p[1]]))\n",
    "                    \n",
    "            elif gate_type[e] == \"and2\":\n",
    "                out = int(value[i][p[0]] and value[i][p[1]])\n",
    "\n",
    "            elif gate_type[e] == \"nor2\":\n",
    "                out = int(not(value[i][p[0]] or value[i][p[1]]))\n",
    "            \n",
    "            elif gate_type[e] == \"or2\":\n",
    "                out = int(value[i][p[0]] or value[i][p[1]])\n",
    "\n",
    "            elif gate_type[e] == \"inv\":\n",
    "                out = int(not(value[i][p[0]]))\n",
    "\n",
    "            elif gate_type[e] == \"xnor2\":\n",
    "                out = int(not(value[i][p[0]] ^ value[i][p[1]]))\n",
    "\n",
    "            elif gate_type[e] == \"xor2\":\n",
    "                out = int(value[i][p[0]] ^ value[i][p[1]])\n",
    "            \n",
    "            # Adding the key value pair to the value list\n",
    "            value1[i].update({e:out})"
   ]
  },
  {
   "cell_type": "markdown",
   "metadata": {},
   "source": []
  },
  {
   "cell_type": "code",
   "execution_count": 8,
   "metadata": {},
   "outputs": [],
   "source": [
    "for i in range(len(lineIn)-1):\n",
    "    if value[i] != value1[i]:\n",
    "        print(\"Some difference is there\")"
   ]
  }
 ],
 "metadata": {
  "kernelspec": {
   "display_name": "Python 3 (ipykernel)",
   "language": "python",
   "name": "python3"
  },
  "language_info": {
   "codemirror_mode": {
    "name": "ipython",
    "version": 3
   },
   "file_extension": ".py",
   "mimetype": "text/x-python",
   "name": "python",
   "nbconvert_exporter": "python",
   "pygments_lexer": "ipython3",
   "version": "3.9.12"
  },
  "vscode": {
   "interpreter": {
    "hash": "b76e693b44b3581cdfe447d90b2f450bdb15f1cc32286f81ee9918acfd7cde71"
   }
  }
 },
 "nbformat": 4,
 "nbformat_minor": 2
}
