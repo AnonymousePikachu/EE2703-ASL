{
 "cells": [
  {
   "cell_type": "code",
   "execution_count": 1,
   "metadata": {},
   "outputs": [
    {
     "name": "stdout",
     "output_type": "stream",
     "text": [
      "[('A', {'gateType': 'PI'}), ('D', {'gateType': 'AND2'}), ('B', {'gateType': 'PI'}), ('E', {'gateType': 'XOR2'}), ('G', {'gateType': 'AND2'}), ('C', {'gateType': 'PI'}), ('F', {'gateType': 'INV'}), ('I', {'gateType': 'OR2'}), ('H', {'gateType': 'AND2'}), ('J', {'gateType': 'OR2'})]\n",
      "Nodes in topological order ['A', 'B', 'C', 'D', 'E', 'F', 'G', 'H', 'I', 'J']\n",
      "Successors of node B ['D', 'E', 'G']\n",
      "Parents of node H ['E', 'F']\n"
     ]
    },
    {
     "data": {
      "text/plain": [
       "['C', 'F', 'A', 'B', 'D', 'E', 'G', 'H', 'I', 'J']"
      ]
     },
     "execution_count": 1,
     "metadata": {},
     "output_type": "execute_result"
    }
   ],
   "source": [
    "import networkx as nx\n",
    "# create a DAG\n",
    "g = nx.DiGraph()\n",
    "# add nl[j]s and edges to the DAG\n",
    "g.add_edges_from([(\"A\", \"D\"), (\"B\", \"D\"), (\"B\", \"E\"), (\"B\", \"G\"), (\"C\", \"E\"),(\"C\", \"F\"), (\"D\", \"I\"), (\"E\", \"G\"),(\"E\", \"H\"), (\"F\", \"H\"), (\"G\", \"I\"), (\"G\",\"J\"), (\"H\", \"J\")])\n",
    "nx.set_node_attributes(g, {\"A\": \"PI\", \"B\": \"PI\", \"C\":\"PI\", \"D\":\"AND2\", \"E\":\"XOR2\", \"F\":\"INV\", \"G\":\"AND2\", \"H\":\"AND2\", \"I\":\"OR2\", \"J\":\"OR2\"},name=\"gateType\")\n",
    "print(g.nodes(data=True))\n",
    "# sort the nodes in topological order\n",
    "nl = list(nx.topological_sort(g))\n",
    "print('Nodes in topological order',nl)\n",
    "# find children of a node\n",
    "print('Successors of node B', list(g.successors(\"B\")))\n",
    "# find parents of a node\n",
    "print('Parents of node H', list(g.predecessors(\"H\")))\n",
    "['C', 'F', 'A', 'B', 'D', 'E', 'G', 'H', 'I', 'J']"
   ]
  },
  {
   "cell_type": "markdown",
   "metadata": {},
   "source": [
    "# Getting the input from the netlist file"
   ]
  },
  {
   "cell_type": "code",
   "execution_count": 1,
   "metadata": {},
   "outputs": [
    {
     "name": "stdout",
     "output_type": "stream",
     "text": [
      "{'N1': 'PI', 'N4': 'PI', 'N8': 'PI', 'N11': 'PI', 'N14': 'PI', 'N17': 'PI', 'N21': 'PI', 'N24': 'PI', 'N27': 'PI', 'N30': 'PI', 'N34': 'PI', 'N37': 'PI', 'N40': 'PI', 'N43': 'PI', 'N47': 'PI', 'N50': 'PI', 'N53': 'PI', 'N56': 'PI', 'N60': 'PI', 'N63': 'PI', 'N66': 'PI', 'N69': 'PI', 'N73': 'PI', 'N76': 'PI', 'N79': 'PI', 'N82': 'PI', 'N86': 'PI', 'N89': 'PI', 'N92': 'PI', 'N95': 'PI', 'N99': 'PI', 'N102': 'PI', 'N105': 'PI', 'N108': 'PI', 'N112': 'PI', 'N115': 'PI', 'dummy_0': 'and2', 'N421': 'nor2', 'n_122': 'nor2', 'dummy_1': 'and2', 'dummy_2': 'and2', 'n_121': 'nand2', 'dummy_3': 'and2', 'dummy_4': 'and2', 'N431': 'nand2', 'dummy_5': 'and2', 'N432': 'nand2', 'n_116': 'inv', 'n_114': 'nand2', 'n_118': 'nand2', 'dummy_6': 'and2', 'N430': 'nand2', 'n_112': 'nand2', 'dummy_7': 'or2', 'n_110': 'nand2', 'n_107': 'nor2', 'n_111': 'inv', 'n_105': 'nand2', 'n_109': 'inv', 'dummy_8': 'and2', 'n_106': 'nand2', 'dummy_9': 'and2', 'n_117': 'nand2', 'dummy_10': 'and2', 'n_113': 'nand2', 'dummy_11': 'and2', 'n_102': 'nand2', 'dummy_12': 'and2', 'n_103': 'nand2', 'dummy_13': 'and2', 'n_108': 'nand2', 'dummy_14': 'and2', 'n_104': 'nand2', 'dummy_15': 'and2', 'dummy_16': 'and2', 'n_101': 'nor2', 'dummy_17': 'and2', 'dummy_18': 'and2', 'n_98': 'nor2', 'dummy_19': 'and2', 'dummy_20': 'and2', 'n_97': 'nor2', 'dummy_21': 'and2', 'dummy_22': 'and2', 'n_96': 'nor2', 'dummy_23': 'and2', 'dummy_24': 'and2', 'n_95': 'nor2', 'dummy_25': 'and2', 'dummy_26': 'and2', 'n_94': 'nor2', 'dummy_27': 'and2', 'n_93': 'nor2', 'n_92': 'nand2', 'dummy_28': 'and2', 'dummy_29': 'and2', 'N370': 'nand2', 'dummy_30': 'or2', 'dummy_31': 'or2', 'n_91': 'nor2', 'dummy_32': 'and2', 'dummy_33': 'and2', 'n_90': 'nor2', 'n_89': 'and2', 'dummy_34': 'and2', 'n_87': 'nand2', 'dummy_35': 'or2', 'n_86': 'nor2', 'dummy_36': 'or2', 'n_85': 'nor2', 'dummy_37': 'or2', 'dummy_38': 'or2', 'n_84': 'nor2', 'n_83': 'inv', 'n_82': 'nor2', 'dummy_39': 'and2', 'dummy_40': 'and2', 'n_81': 'nor2', 'dummy_41': 'and2', 'n_79': 'nor2', 'dummy_42': 'and2', 'n_78': 'nor2', 'n_77': 'and2', 'n_76': 'and2', 'n_75': 'and2', 'n_74': 'nand2', 'n_73': 'nand2', 'n_72': 'nand2', 'n_71': 'nand2', 'n_70': 'nand2', 'n_69': 'nand2', 'n_68': 'nand2', 'dummy_43': 'and2', 'n_67': 'nor2', 'dummy_44': 'and2', 'n_66': 'nor2', 'dummy_45': 'and2', 'N329': 'nand2', 'n_65': 'nor2', 'dummy_46': 'and2', 'dummy_47': 'and2', 'n_64': 'nand2', 'dummy_48': 'and2', 'n_61': 'nor2', 'dummy_49': 'or2', 'dummy_50': 'or2', 'n_60': 'nand2', 'dummy_51': 'or2', 'dummy_52': 'or2', 'n_55': 'nand2', 'dummy_53': 'or2', 'n_51': 'nand2', 'n_49': 'inv', 'n_88': 'inv', 'n_50': 'nand2', 'n_59': 'nand2', 'n_57': 'nand2', 'n_56': 'nand2', 'n_62': 'nand2', 'n_48': 'nand2', 'n_52': 'nand2', 'n_53': 'nand2', 'n_54': 'nand2', 'n_63': 'nand2', 'n_58': 'nand2', 'n_45': 'nand2', 'n_44': 'nor2', 'n_42': 'nor2', 'n_41': 'nor2', 'n_40': 'nor2', 'n_38': 'nor2', 'n_36': 'nor2', 'n_35': 'nor2', 'n_33': 'nor2', 'n_32': 'nor2', 'n_30': 'nor2', 'n_28': 'nor2', 'n_46': 'nor2', 'n_25': 'nand2', 'n_37': 'nor2', 'n_39': 'nor2', 'n_34': 'nor2', 'n_27': 'nor2', 'n_31': 'nor2', 'n_43': 'nor2', 'n_26': 'nor2', 'n_29': 'nor2', 'N223': 'inv', 'n_24': 'nor2', 'n_23': 'inv', 'dummy_54': 'or2', 'dummy_55': 'or2', 'n_22': 'nor2', 'n_18': 'inv', 'dummy_56': 'or2', 'n_17': 'nand2', 'dummy_57': 'or2', 'dummy_58': 'or2', 'n_16': 'nor2', 'n_11': 'inv', 'n_20': 'nor2', 'n_13': 'nor2', 'n_15': 'nor2', 'n_19': 'nor2', 'n_10': 'nor2', 'n_14': 'nor2', 'n_12': 'nor2', 'n_21': 'nor2', 'n_8': 'inv', 'n_7': 'inv', 'n_6': 'inv', 'n_5': 'inv', 'n_9': 'inv', 'n_4': 'inv', 'n_3': 'inv', 'n_2': 'inv', 'n_1': 'inv', 'n_0': 'inv', 'n_47': 'inv'}\n",
      "Nodes in topological order ['N4', 'N108', 'N69', 'N17', 'N30', 'N56', 'N82', 'N95', 'N92', 'N76', 'N79', 'N63', 'N27', 'N11', 'N66', 'N50', 'N105', 'N89', 'N40', 'N24', 'N14', 'N53', 'N8', 'N1', 'N47', 'N86', 'N73', 'N99', 'N34', 'N21', 'N60', 'N43', 'N112', 'N115', 'N37', 'N102', 'n_2', 'n_4', 'n_8', 'n_3', 'n_1', 'n_9', 'n_5', 'n_0', 'n_6', 'n_7', 'n_20', 'n_12', 'n_10', 'n_13', 'n_14', 'dummy_37', 'n_15', 'n_21', 'n_19', 'dummy_56', 'n_11', 'dummy_58', 'dummy_57', 'dummy_54', 'n_17', 'n_16', 'dummy_55', 'n_18', 'n_22', 'n_23', 'n_24', 'n_37', 'n_39', 'n_34', 'n_27', 'n_31', 'n_43', 'n_26', 'n_29', 'N223', 'n_42', 'n_38', 'n_41', 'n_40', 'n_36', 'n_35', 'n_33', 'n_28', 'dummy_35', 'n_32', 'n_44', 'dummy_36', 'n_46', 'n_30', 'dummy_16', 'dummy_18', 'dummy_20', 'dummy_22', 'dummy_24', 'dummy_26', 'dummy_40', 'n_25', 'n_59', 'n_58', 'n_57', 'n_56', 'n_48', 'n_52', 'n_54', 'n_53', 'n_63', 'n_50', 'dummy_48', 'n_47', 'n_62', 'n_45', 'dummy_49', 'dummy_43', 'dummy_50', 'n_49', 'dummy_52', 'dummy_44', 'dummy_51', 'dummy_47', 'dummy_53', 'n_88', 'n_60', 'n_55', 'n_51', 'n_61', 'dummy_46', 'n_64', 'n_65', 'dummy_45', 'N329', 'dummy_39', 'dummy_41', 'dummy_42', 'n_77', 'n_76', 'n_75', 'n_74', 'n_73', 'n_72', 'n_71', 'n_70', 'n_69', 'n_68', 'n_67', 'n_66', 'n_81', 'n_79', 'n_78', 'n_85', 'n_86', 'dummy_38', 'n_82', 'dummy_30', 'n_83', 'dummy_34', 'n_89', 'dummy_32', 'dummy_33', 'n_84', 'n_87', 'n_90', 'dummy_31', 'dummy_29', 'n_91', 'dummy_28', 'N370', 'dummy_15', 'dummy_17', 'dummy_19', 'dummy_21', 'dummy_23', 'dummy_25', 'dummy_27', 'n_92', 'n_101', 'n_98', 'n_97', 'n_96', 'n_95', 'n_94', 'n_93', 'dummy_14', 'dummy_12', 'dummy_8', 'dummy_9', 'dummy_11', 'dummy_13', 'dummy_10', 'dummy_0', 'n_104', 'n_103', 'n_106', 'n_117', 'n_102', 'n_108', 'n_113', 'n_109', 'dummy_2', 'n_105', 'dummy_4', 'dummy_7', 'n_107', 'n_111', 'n_110', 'n_118', 'dummy_6', 'n_112', 'n_114', 'N430', 'dummy_3', 'dummy_5', 'n_116', 'N431', 'N432', 'dummy_1', 'n_121', 'n_122', 'N421']\n"
     ]
    }
   ],
   "source": [
    "# Importing the necessary libraries\n",
    "import networkx as nx\n",
    "\n",
    "# Declaring variables for opening the files required\n",
    "netwrok = \"c432.net\"\n",
    "inputs = \"c432.inputs\"\n",
    "\n",
    "# Defining a class to take in the vlaues from the network file\n",
    "class Component:\n",
    "\tdef __init__(self,name,g_type,input,output):\n",
    "\t\tself.name = name\n",
    "\t\tself.g_type = g_type\n",
    "\t\tself.input = input\n",
    "\t\tself.output = output\n",
    "                \n",
    "# Declaring a list to store the components\n",
    "l = []\n",
    "\n",
    "# Opening the file mentioned and storing it in the list\n",
    "with open(netwrok) as f:\n",
    "    lines = f.readlines()\n",
    "    for line in lines:\n",
    "        name,g_type,*input= line.split()\n",
    "        output = line.split()[-1]\n",
    "        Gate = Component(name,g_type,input,output)\n",
    "        l.append(Gate)\n",
    "\n",
    "# Declaring and creating the  edges list for the topoligal sorting\n",
    "edges = []\n",
    "g = nx.DiGraph()\n",
    "for gate in l:\n",
    "    if len(gate.input) == 3:\n",
    "        edges.append((gate.input[0],gate.output))\n",
    "        edges.append((gate.input[1],gate.output))\n",
    "    else:\n",
    "        edges.append((gate.input[0],gate.output))\n",
    "\n",
    "# Making the diGraph for the topological sorting\n",
    "g.add_edges_from(edges)\n",
    "\n",
    "# Taking inputs from the inputs file and storing them in the values list as dictionaries\n",
    "value = []\n",
    "with open(inputs) as file:\n",
    "    lineIn = file.readlines()\n",
    "    pi = lineIn[0].split()\n",
    "    for i in range(len(lineIn)-1):\n",
    "        value.append({})\n",
    "        for j in range(len(pi)):\n",
    "            value[i].update({lineIn[0].split()[j]:lineIn[i+1].split()[j]})\n",
    "value1 = value.copy()\n",
    "\n",
    "# Saving the gate_types of eadh gate as a dictionary for later use in the gate function\n",
    "gate_type = {}\n",
    "for node in pi:\n",
    "     gate_type.update({node:\"PI\"})\n",
    "for node in l:\n",
    "     gate_type.update({node.output:node.g_type})\n",
    "nx.set_node_attributes(g,gate_type,name = \"gateType\")\n",
    "print(gate_type)\n",
    "# Making a topologically sorted list of the nodes\n",
    "nl = list(nx.topological_sort(g))\n",
    "\n",
    "print('Nodes in topological order',nl)\n",
    "\n",
    "\n"
   ]
  },
  {
   "cell_type": "markdown",
   "metadata": {},
   "source": [
    "# Solving using the topological order"
   ]
  },
  {
   "cell_type": "code",
   "execution_count": 2,
   "metadata": {},
   "outputs": [
    {
     "name": "stdout",
     "output_type": "stream",
     "text": [
      "{'N1': '0', 'N4': '0', 'N8': '1', 'N11': '0', 'N14': '1', 'N17': '1', 'N21': '0', 'N24': '0', 'N27': '0', 'N30': '0', 'N34': '1', 'N37': '1', 'N40': '1', 'N43': '0', 'N47': '0', 'N50': '0', 'N53': '0', 'N56': '1', 'N60': '1', 'N63': '0', 'N66': '1', 'N69': '0', 'N73': '1', 'N76': '1', 'N79': '1', 'N82': '0', 'N86': '1', 'N89': '1', 'N92': '1', 'N95': '1', 'N99': '0', 'N102': '0', 'N105': '0', 'N108': '1', 'N112': '0', 'N115': '0', 'n_2': 1, 'n_4': 0, 'n_8': 1, 'n_3': 0, 'n_1': 1, 'n_9': 0, 'n_5': 1, 'n_0': 0, 'n_6': 1, 'n_7': 1, 'n_20': 0, 'n_12': 1, 'n_10': 0, 'n_13': 1, 'n_14': 0, 'dummy_37': 1, 'n_15': 1, 'n_21': 0, 'n_19': 0, 'dummy_56': 1, 'n_11': 1, 'dummy_58': 1, 'dummy_57': 1, 'dummy_54': 0, 'n_17': 0, 'n_16': 0, 'dummy_55': 0, 'n_18': 1, 'n_22': 1, 'n_23': 0, 'n_24': 0, 'n_37': 1, 'n_39': 1, 'n_34': 1, 'n_27': 0, 'n_31': 1, 'n_43': 0, 'n_26': 1, 'n_29': 0, 'N223': 1, 'n_42': 0, 'n_38': 0, 'n_41': 0, 'n_40': 0, 'n_36': 0, 'n_35': 0, 'n_33': 1, 'n_28': 1, 'dummy_35': 1, 'n_32': 0, 'n_44': 0, 'dummy_36': 1, 'n_46': 0, 'n_30': 1, 'dummy_16': 1, 'dummy_18': 0, 'dummy_20': 0, 'dummy_22': 0, 'dummy_24': 1, 'dummy_26': 0, 'dummy_40': 0, 'n_25': 0, 'n_59': 1, 'n_58': 1, 'n_57': 1, 'n_56': 1, 'n_48': 1, 'n_52': 1, 'n_54': 0, 'n_53': 0, 'n_63': 1, 'n_50': 1, 'dummy_48': 0, 'n_47': 1, 'n_62': 0, 'n_45': 1, 'dummy_49': 1, 'dummy_43': 1, 'dummy_50': 1, 'n_49': 0, 'dummy_52': 1, 'dummy_44': 0, 'dummy_51': 0, 'dummy_47': 0, 'dummy_53': 1, 'n_88': 0, 'n_60': 0, 'n_55': 1, 'n_51': 0, 'n_61': 1, 'dummy_46': 0, 'n_64': 1, 'n_65': 0, 'dummy_45': 0, 'N329': 1, 'dummy_39': 1, 'dummy_41': 0, 'dummy_42': 0, 'n_77': 1, 'n_76': 1, 'n_75': 1, 'n_74': 0, 'n_73': 0, 'n_72': 1, 'n_71': 0, 'n_70': 1, 'n_69': 0, 'n_68': 1, 'n_67': 0, 'n_66': 0, 'n_81': 0, 'n_79': 1, 'n_78': 1, 'n_85': 0, 'n_86': 0, 'dummy_38': 1, 'n_82': 1, 'dummy_30': 1, 'n_83': 1, 'dummy_34': 1, 'n_89': 0, 'dummy_32': 0, 'dummy_33': 0, 'n_84': 0, 'n_87': 0, 'n_90': 1, 'dummy_31': 0, 'dummy_29': 0, 'n_91': 0, 'dummy_28': 0, 'N370': 1, 'dummy_15': 1, 'dummy_17': 1, 'dummy_19': 0, 'dummy_21': 1, 'dummy_23': 0, 'dummy_25': 1, 'dummy_27': 1, 'n_92': 1, 'n_101': 0, 'n_98': 0, 'n_97': 1, 'n_96': 0, 'n_95': 0, 'n_94': 0, 'n_93': 0, 'dummy_14': 1, 'dummy_12': 0, 'dummy_8': 0, 'dummy_9': 1, 'dummy_11': 0, 'dummy_13': 0, 'dummy_10': 0, 'dummy_0': 0, 'n_104': 1, 'n_103': 1, 'n_106': 1, 'n_117': 0, 'n_102': 1, 'n_108': 1, 'n_113': 1, 'n_109': 0, 'dummy_2': 1, 'n_105': 0, 'dummy_4': 0, 'dummy_7': 1, 'n_107': 0, 'n_111': 1, 'n_110': 0, 'n_118': 1, 'dummy_6': 1, 'n_112': 1, 'n_114': 1, 'N430': 1, 'dummy_3': 1, 'dummy_5': 1, 'n_116': 0, 'N431': 1, 'N432': 1, 'dummy_1': 0, 'n_121': 1, 'n_122': 0, 'N421': 1}\n"
     ]
    }
   ],
   "source": [
    "# Iterating through all the input sets given\n",
    "for i in range(len(lineIn)-1):   \n",
    "\n",
    "   # Iterating through the gates except pi\n",
    "   for j in range(len(pi),len(nl)):\n",
    "\n",
    "      # Finding the predecessors of the gate\n",
    "      p = list(g.predecessors(nl[j]))\n",
    "      out = 0 \n",
    "      \n",
    "      # Checking for all types of gates and performing the necessary operations\n",
    "      if gate_type[nl[j]] == \"nand2\":\n",
    "         a =  int(value[i][p[0]]) * int(value[i][p[1]])\n",
    "         if a == 0 :\n",
    "            out = 1\n",
    "            \n",
    "      if gate_type[nl[j]] == \"and2\":\n",
    "         out =  int(value[i][p[0]]) * int(value[i][p[1]])\n",
    "\n",
    "      if gate_type[nl[j]] == \"nor2\":\n",
    "         if int(value[i][p[0]]) + int(value[i][p[1]]) < 1:\n",
    "            out = 1\n",
    "      \n",
    "      if gate_type[nl[j]] == \"or2\":\n",
    "         if int(value[i][p[0]]) + int(value[i][p[1]]) > 1:\n",
    "            out = 1\n",
    "\n",
    "      if gate_type[nl[j]] == \"inv\":\n",
    "         if int(value[i][p[0]]) == 0:\n",
    "            out = 1\n",
    "\n",
    "      if gate_type[nl[j]] == \"xnor2\":\n",
    "         if int(value[i][p[0]]) == int(value[i][p[1]]):\n",
    "            out = 1\n",
    "\n",
    "      if gate_type[nl[j]] == \"or2\":\n",
    "         if int(value[i][p[0]]) != int(value[i][p[1]]):\n",
    "            out = 1\n",
    "      \n",
    "      # Updating the output of the current gate into the value list\n",
    "      value[i].update({nl[j]:out})\n",
    "print(value[0])\n",
    "           "
   ]
  },
  {
   "cell_type": "markdown",
   "metadata": {},
   "source": [
    "# Using the Event - driven method"
   ]
  },
  {
   "cell_type": "code",
   "execution_count": 3,
   "metadata": {},
   "outputs": [
    {
     "name": "stdout",
     "output_type": "stream",
     "text": [
      "{'N1': '0', 'N4': '0', 'N8': '1', 'N11': '0', 'N14': '1', 'N17': '1', 'N21': '0', 'N24': '0', 'N27': '0', 'N30': '0', 'N34': '1', 'N37': '1', 'N40': '1', 'N43': '0', 'N47': '0', 'N50': '0', 'N53': '0', 'N56': '1', 'N60': '1', 'N63': '0', 'N66': '1', 'N69': '0', 'N73': '1', 'N76': '1', 'N79': '1', 'N82': '0', 'N86': '1', 'N89': '1', 'N92': '1', 'N95': '1', 'N99': '0', 'N102': '0', 'N105': '0', 'N108': '1', 'N112': '0', 'N115': '0', 'n_2': 1, 'n_4': 0, 'n_8': 1, 'n_3': 0, 'n_1': 1, 'n_9': 0, 'n_5': 1, 'n_0': 0, 'n_6': 1, 'n_7': 1, 'n_20': 0, 'n_12': 1, 'n_10': 0, 'n_13': 1, 'n_14': 0, 'dummy_37': 1, 'n_15': 1, 'n_21': 0, 'n_19': 0, 'dummy_56': 1, 'n_11': 1, 'dummy_58': 1, 'dummy_57': 1, 'dummy_54': 0, 'n_17': 0, 'n_16': 0, 'dummy_55': 0, 'n_18': 1, 'n_22': 1, 'n_23': 0, 'n_24': 0, 'n_37': 1, 'n_39': 1, 'n_34': 1, 'n_27': 0, 'n_31': 1, 'n_43': 0, 'n_26': 1, 'n_29': 0, 'N223': 1, 'n_42': 0, 'n_38': 0, 'n_41': 0, 'n_40': 0, 'n_36': 0, 'n_35': 0, 'n_33': 1, 'n_28': 1, 'dummy_35': 1, 'n_32': 0, 'n_44': 0, 'dummy_36': 1, 'n_46': 0, 'n_30': 1, 'dummy_16': 1, 'dummy_18': 0, 'dummy_20': 0, 'dummy_22': 0, 'dummy_24': 1, 'dummy_26': 0, 'dummy_40': 0, 'n_25': 0, 'n_59': 1, 'n_58': 1, 'n_57': 1, 'n_56': 1, 'n_48': 1, 'n_52': 1, 'n_54': 0, 'n_53': 0, 'n_63': 1, 'n_50': 1, 'dummy_48': 0, 'n_47': 1, 'n_62': 0, 'n_45': 1, 'dummy_49': 1, 'dummy_43': 1, 'dummy_50': 1, 'n_49': 0, 'dummy_52': 1, 'dummy_44': 0, 'dummy_51': 0, 'dummy_47': 0, 'dummy_53': 1, 'n_88': 0, 'n_60': 0, 'n_55': 1, 'n_51': 0, 'n_61': 1, 'dummy_46': 0, 'n_64': 1, 'n_65': 0, 'dummy_45': 0, 'N329': 1, 'dummy_39': 1, 'dummy_41': 0, 'dummy_42': 0, 'n_77': 1, 'n_76': 1, 'n_75': 1, 'n_74': 0, 'n_73': 0, 'n_72': 1, 'n_71': 0, 'n_70': 1, 'n_69': 0, 'n_68': 1, 'n_67': 0, 'n_66': 0, 'n_81': 0, 'n_79': 1, 'n_78': 1, 'n_85': 0, 'n_86': 0, 'dummy_38': 1, 'n_82': 1, 'dummy_30': 1, 'n_83': 1, 'dummy_34': 1, 'n_89': 0, 'dummy_32': 0, 'dummy_33': 0, 'n_84': 0, 'n_87': 0, 'n_90': 1, 'dummy_31': 0, 'dummy_29': 0, 'n_91': 0, 'dummy_28': 0, 'N370': 1, 'dummy_15': 1, 'dummy_17': 1, 'dummy_19': 0, 'dummy_21': 1, 'dummy_23': 0, 'dummy_25': 1, 'dummy_27': 1, 'n_92': 1, 'n_101': 0, 'n_98': 0, 'n_97': 1, 'n_96': 0, 'n_95': 0, 'n_94': 0, 'n_93': 0, 'dummy_14': 1, 'dummy_12': 0, 'dummy_8': 0, 'dummy_9': 1, 'dummy_11': 0, 'dummy_13': 0, 'dummy_10': 0, 'dummy_0': 0, 'n_104': 1, 'n_103': 1, 'n_106': 1, 'n_117': 0, 'n_102': 1, 'n_108': 1, 'n_113': 1, 'n_109': 0, 'dummy_2': 1, 'n_105': 0, 'dummy_4': 0, 'dummy_7': 1, 'n_107': 0, 'n_111': 1, 'n_110': 0, 'n_118': 1, 'dummy_6': 1, 'n_112': 1, 'n_114': 1, 'N430': 1, 'dummy_3': 1, 'dummy_5': 1, 'n_116': 0, 'N431': 1, 'N432': 1, 'dummy_1': 0, 'n_121': 1, 'n_122': 0, 'N421': 1}\n"
     ]
    }
   ],
   "source": [
    "from queue import Queue\n",
    "Event = Queue()\n",
    "for item in nl[:len(pi)]:\n",
    "    Event.put(item)\n",
    "# for i in range(len(lineIn)-1):\n",
    "    \n",
    "i = 0\n",
    "while not Event.empty():\n",
    "    e = Event.get()\n",
    "    for thing in list(g.successors(e)):\n",
    "        if all(elem in value1[i] for elem in list(g.predecessors(thing))):\n",
    "            Event.put(thing)\n",
    "\n",
    "    if e not in value1[i]:\n",
    "        print(e)\n",
    "        p = list(g.predecessors(e))\n",
    "        out = 0\n",
    "        \n",
    "        if gate_type[e] == \"nand2\":\n",
    "            a =  int(value1[i][p[0]]) * int(value1[i][p[1]])\n",
    "            if a == 0 :\n",
    "                out = 1\n",
    "                \n",
    "        if gate_type[e] == \"and2\":\n",
    "            out =  int(value1[i][p[0]]) * int(value1[i][p[1]])\n",
    "\n",
    "        if gate_type[e] == \"nor2\":\n",
    "            if int(value1[i][p[0]]) + int(value1[i][p[1]]) < 1:\n",
    "                out = 1\n",
    "        \n",
    "        if gate_type[e] == \"or2\":\n",
    "            if int(value1[i][p[0]]) + int(value1[i][p[1]]) > 1:\n",
    "                out = 1\n",
    "\n",
    "        if gate_type[e] == \"inv\":\n",
    "            if int(value1[i][p[0]]) == 0:\n",
    "                out = 1\n",
    "\n",
    "        if gate_type[e] == \"xnor2\":\n",
    "            if int(value1[i][p[0]]) == int(value1[i][p[1]]):\n",
    "                out = 1\n",
    "\n",
    "        if gate_type[e] == \"or2\":\n",
    "            if int(value1[i][p[0]]) != int(value1[i][p[1]]):\n",
    "                out = 1\n",
    "                \n",
    "        value1[i].update({e:out})\n",
    "\n",
    "print(value1[0])"
   ]
  },
  {
   "cell_type": "code",
   "execution_count": null,
   "metadata": {},
   "outputs": [],
   "source": [
    "for i in range(len(lineIn)-1):\n",
    "    if set(value[i].items()) ^ set(value1[i].items()):\n",
    "        print(\"There are differences\")"
   ]
  },
  {
   "cell_type": "code",
   "execution_count": null,
   "metadata": {},
   "outputs": [],
   "source": [
    "from collections import deque\n",
    "\n",
    "# Define the list N\n",
    "N = [1, 2, 3, 4, 5, 6, 7, 8, 9, 10]\n",
    "\n",
    "# Define the size of the queue\n",
    "n = 5\n",
    "\n",
    "# Create a new deque object and add the first n values of N to the queue\n",
    "queue = deque(N[:n])\n",
    "l =[1,2,3]\n",
    "queue.extend(l)\n",
    "# Print the initial queue\n",
    "print(queue)\n",
    "if l in N:\n",
    "    print(\"yes\")"
   ]
  }
 ],
 "metadata": {
  "kernelspec": {
   "display_name": "Python 3 (ipykernel)",
   "language": "python",
   "name": "python3"
  },
  "language_info": {
   "codemirror_mode": {
    "name": "ipython",
    "version": 3
   },
   "file_extension": ".py",
   "mimetype": "text/x-python",
   "name": "python",
   "nbconvert_exporter": "python",
   "pygments_lexer": "ipython3",
   "version": "3.9.12"
  },
  "vscode": {
   "interpreter": {
    "hash": "b76e693b44b3581cdfe447d90b2f450bdb15f1cc32286f81ee9918acfd7cde71"
   }
  }
 },
 "nbformat": 4,
 "nbformat_minor": 2
}
