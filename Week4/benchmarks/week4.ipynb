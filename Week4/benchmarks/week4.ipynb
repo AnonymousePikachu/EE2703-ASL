{
 "cells": [
  {
   "cell_type": "code",
   "execution_count": 1,
   "metadata": {},
   "outputs": [
    {
     "name": "stdout",
     "output_type": "stream",
     "text": [
      "[('A', {'gateType': 'PI'}), ('D', {'gateType': 'AND2'}), ('B', {'gateType': 'PI'}), ('E', {'gateType': 'XOR2'}), ('G', {'gateType': 'AND2'}), ('C', {'gateType': 'PI'}), ('F', {'gateType': 'INV'}), ('I', {'gateType': 'OR2'}), ('H', {'gateType': 'AND2'}), ('J', {'gateType': 'OR2'})]\n",
      "Nodes in topological order ['A', 'B', 'C', 'D', 'E', 'F', 'G', 'H', 'I', 'J']\n",
      "Successors of node B ['D', 'E', 'G']\n",
      "Parents of node H ['E', 'F']\n"
     ]
    },
    {
     "data": {
      "text/plain": [
       "['C', 'F', 'A', 'B', 'D', 'E', 'G', 'H', 'I', 'J']"
      ]
     },
     "execution_count": 1,
     "metadata": {},
     "output_type": "execute_result"
    }
   ],
   "source": [
    "import networkx as nx\n",
    "# create a DAG\n",
    "g = nx.DiGraph()\n",
    "# add nl[j]s and edges to the DAG\n",
    "g.add_edges_from([(\"A\", \"D\"), (\"B\", \"D\"), (\"B\", \"E\"), (\"B\", \"G\"), (\"C\", \"E\"),(\"C\", \"F\"), (\"D\", \"I\"), (\"E\", \"G\"),(\"E\", \"H\"), (\"F\", \"H\"), (\"G\", \"I\"), (\"G\",\"J\"), (\"H\", \"J\")])\n",
    "nx.set_node_attributes(g, {\"A\": \"PI\", \"B\": \"PI\", \"C\":\"PI\", \"D\":\"AND2\", \"E\":\"XOR2\", \"F\":\"INV\", \"G\":\"AND2\", \"H\":\"AND2\", \"I\":\"OR2\", \"J\":\"OR2\"},name=\"gateType\")\n",
    "print(g.nodes(data=True))\n",
    "# sort the nodes in topological order\n",
    "nl = list(nx.topological_sort(g))\n",
    "print('Nodes in topological order',nl)\n",
    "# find children of a node\n",
    "print('Successors of node B', list(g.successors(\"B\")))\n",
    "# find parents of a node\n",
    "print('Parents of node H', list(g.predecessors(\"H\")))\n",
    "['C', 'F', 'A', 'B', 'D', 'E', 'G', 'H', 'I', 'J']"
   ]
  },
  {
   "cell_type": "markdown",
   "metadata": {},
   "source": [
    "# Getting the input from the netlist file"
   ]
  },
  {
   "cell_type": "code",
   "execution_count": 1,
   "metadata": {},
   "outputs": [],
   "source": [
    "# Importing the necessary libraries\n",
    "import networkx as nx\n",
    "import copy\n",
    "# Declaring variables for opening the files required\n",
    "netwrok = \"c432.net\"\n",
    "inputs = \"c432.inputs\"\n",
    "\n",
    "# Defining a class to take in the vlaues from the network file\n",
    "class Component:\n",
    "\tdef __init__(self,name,g_type,input,output):\n",
    "\t\tself.name = name\n",
    "\t\tself.g_type = g_type\n",
    "\t\tself.input = input\n",
    "\t\tself.output = output\n",
    "                \n",
    "# Declaring a list to store the components\n",
    "l = []\n",
    "\n",
    "# Opening the file mentioned and storing it in the list\n",
    "with open(netwrok) as f:\n",
    "    lines = f.readlines()\n",
    "    for line in lines:\n",
    "        name,g_type,*input= line.split()\n",
    "        output = line.split()[-1]\n",
    "        Gate = Component(name,g_type,input,output)\n",
    "        l.append(Gate)\n",
    "\n",
    "# Declaring and creating the  edges list for the topoligal sorting\n",
    "edges = []\n",
    "g = nx.DiGraph()\n",
    "for gate in l:\n",
    "    if len(gate.input) == 3:\n",
    "        edges.append((gate.input[0],gate.output))\n",
    "        edges.append((gate.input[1],gate.output))\n",
    "    else:\n",
    "        edges.append((gate.input[0],gate.output))\n",
    "\n",
    "# Making the diGraph for the topological sorting\n",
    "g.add_edges_from(edges)\n",
    "\n",
    "# Taking inputs from the inputs file and storing them in the values list as dictionaries\n",
    "value = []\n",
    "with open(inputs) as file:\n",
    "    lineIn = file.readlines()\n",
    "    pi = lineIn[0].split()\n",
    "    for i in range(len(lineIn)-1):\n",
    "        value.append({})\n",
    "        for j in range(len(pi)):\n",
    "            value[i].update({lineIn[0].split()[j]:lineIn[i+1].split()[j]})\n",
    "value1 = copy.copy(value)\n",
    "\n",
    "# Saving the gate_types of eadh gate as a dictionary for later use in the gate function\n",
    "gate_type = {}\n",
    "for node in pi:\n",
    "     gate_type.update({node:\"PI\"})\n",
    "for node in l:\n",
    "     gate_type.update({node.output:node.g_type})\n",
    "nx.set_node_attributes(g,gate_type,name = \"gateType\")\n",
    "# Making a topologically sorted list of the nodes\n",
    "nl = list(nx.topological_sort(g))\n"
   ]
  },
  {
   "cell_type": "markdown",
   "metadata": {},
   "source": [
    "# Solving using the topological order"
   ]
  },
  {
   "cell_type": "code",
   "execution_count": 2,
   "metadata": {},
   "outputs": [],
   "source": [
    "# Iterating through all the input sets given\n",
    "for i in range(len(lineIn)-1):   \n",
    "\n",
    "   # Iterating through the gates except pi\n",
    "   for j in range(len(pi),len(nl)):\n",
    "\n",
    "      # Finding the predecessors of the gate\n",
    "      p = list(g.predecessors(nl[j]))\n",
    "      out = 0 \n",
    "      \n",
    "      # Checking for all types of gates and performing the necessary operations\n",
    "      if gate_type[nl[j]] == \"nand2\":\n",
    "         out = int(not(int(value[i][p[0]]) and int(value[i][p[1]])))\n",
    "    \n",
    "      elif gate_type[nl[j]] == \"and2\":\n",
    "         out = int(int(value[i][p[0]]) and int(value[i][p[1]]))\n",
    "\n",
    "      elif gate_type[nl[j]] == \"nor2\":\n",
    "         out = int(not(int(value[i][p[0]]) or int(value[i][p[1]])))\n",
    "      \n",
    "      elif gate_type[nl[j]] == \"or2\":\n",
    "         out = int(int(value[i][p[0]]) or int(value[i][p[1]]))\n",
    "\n",
    "      elif gate_type[nl[j]] == \"inv\":\n",
    "         out = int(not(int(value[i][p[0]])))\n",
    "\n",
    "      elif gate_type[nl[j]] == \"xnor2\":\n",
    "         out = int(not(int(value[i][p[0]]) ^ int(value[i][p[1]])))\n",
    "\n",
    "      elif gate_type[nl[j]] == \"xor2\":\n",
    "         out = int(int(value[i][p[0]]) ^ int(value[i][p[1]]))\n",
    "      \n",
    "      # Updating the output of the current gate into the value list\n",
    "      value[i].update({nl[j]:out})\n",
    "           "
   ]
  },
  {
   "cell_type": "markdown",
   "metadata": {},
   "source": [
    "# Using the Event - driven method"
   ]
  },
  {
   "cell_type": "code",
   "execution_count": 3,
   "metadata": {},
   "outputs": [
    {
     "ename": "IndexError",
     "evalue": "list index out of range",
     "output_type": "error",
     "traceback": [
      "\u001b[0;31m---------------------------------------------------------------------------\u001b[0m",
      "\u001b[0;31mIndexError\u001b[0m                                Traceback (most recent call last)",
      "\u001b[1;32m/home/pika/Sem 4 Notes/EE2703 -APL/Week4/benchmarks/week4.ipynb Cell 7\u001b[0m in \u001b[0;36m<cell line: 10>\u001b[0;34m()\u001b[0m\n\u001b[1;32m     <a href='vscode-notebook-cell:/home/pika/Sem%204%20Notes/EE2703%20-APL/Week4/benchmarks/week4.ipynb#W6sZmlsZQ%3D%3D?line=16'>17</a>\u001b[0m \u001b[39mfor\u001b[39;00m thing \u001b[39min\u001b[39;00m \u001b[39mlist\u001b[39m(g\u001b[39m.\u001b[39msuccessors(e)):\n\u001b[1;32m     <a href='vscode-notebook-cell:/home/pika/Sem%204%20Notes/EE2703%20-APL/Week4/benchmarks/week4.ipynb#W6sZmlsZQ%3D%3D?line=17'>18</a>\u001b[0m     \u001b[39mif\u001b[39;00m \u001b[39mlist\u001b[39m(g\u001b[39m.\u001b[39mpredecessors(thing))[\u001b[39m0\u001b[39m] \u001b[39min\u001b[39;00m value[i]:\n\u001b[0;32m---> <a href='vscode-notebook-cell:/home/pika/Sem%204%20Notes/EE2703%20-APL/Week4/benchmarks/week4.ipynb#W6sZmlsZQ%3D%3D?line=18'>19</a>\u001b[0m         \u001b[39mif\u001b[39;00m \u001b[39mlist\u001b[39;49m(g\u001b[39m.\u001b[39;49mpredecessors(thing))[\u001b[39m1\u001b[39;49m] \u001b[39min\u001b[39;00m value[i] :\n\u001b[1;32m     <a href='vscode-notebook-cell:/home/pika/Sem%204%20Notes/EE2703%20-APL/Week4/benchmarks/week4.ipynb#W6sZmlsZQ%3D%3D?line=19'>20</a>\u001b[0m             Event\u001b[39m.\u001b[39mput(thing)\n\u001b[1;32m     <a href='vscode-notebook-cell:/home/pika/Sem%204%20Notes/EE2703%20-APL/Week4/benchmarks/week4.ipynb#W6sZmlsZQ%3D%3D?line=20'>21</a>\u001b[0m \u001b[39m# Adding to the dictionary if its not already there\u001b[39;00m\n",
      "\u001b[0;31mIndexError\u001b[0m: list index out of range"
     ]
    }
   ],
   "source": [
    "# Importing the\n",
    "from queue import Queue\n",
    "\n",
    "# Declaring and initializing the queue\n",
    "Event = Queue()\n",
    "for item in nl[:len(pi)]:\n",
    "    Event.put(item)\n",
    "\n",
    "# Iterating through all the input sets given\n",
    "for i in range(len(lineIn)-1):\n",
    "    \n",
    "    # Iterating till the queue is empty\n",
    "    while not Event.empty():\n",
    "        e = Event.get()\n",
    "\n",
    "        # Adding to the queue only if both its predessors are in list\n",
    "        for thing in list(g.successors(e)):\n",
    "            if list(g.predecessors(thing))[0] in value[i]:\n",
    "                if list(g.predecessors(thing))[1] in value[i] :\n",
    "                    Event.put(thing)\n",
    "        # Adding to the dictionary if its not already there\n",
    "        if e not in value1[i]:\n",
    "            p = list(g.predecessors(e))\n",
    "\n",
    "            # Going through all typed of gates to give the result\n",
    "            if gate_type[e] == \"nand2\":\n",
    "                out = int(not(int(value[i][p[0]]) and int(value[i][p[1]])))\n",
    "                    \n",
    "            if gate_type[e] == \"and2\":\n",
    "                out = int(int(value[i][p[0]]) and int(value[i][p[1]]))\n",
    "\n",
    "            elif gate_type[e] == \"nor2\":\n",
    "                out = int(not(int(value[i][p[0]]) or int(value[i][p[1]])))\n",
    "            \n",
    "            elif gate_type[e] == \"or2\":\n",
    "                out = int(int(value[i][p[0]]) or int(value[i][p[1]]))\n",
    "\n",
    "            elif gate_type[e] == \"inv\":\n",
    "                out = int(not(int(value[i][p[0]])))\n",
    "\n",
    "            elif gate_type[e] == \"xnor2\":\n",
    "                out = int(not(int(value[i][p[0]]) ^ int(value[i][p[1]])))\n",
    "\n",
    "            elif gate_type[e] == \"xor2\":\n",
    "                out = int(int(value[i][p[0]]) ^ int(value[i][p[1]]))    \n",
    "                    \n",
    "            value1[i].update({e:out})\n"
   ]
  },
  {
   "cell_type": "code",
   "execution_count": 32,
   "metadata": {},
   "outputs": [
    {
     "name": "stdout",
     "output_type": "stream",
     "text": [
      "{'N1': '0', 'N2': '1', 'N3': '0', 'N6': '0', 'N7': '0', 'n_0': 1, 'n_1': 1, 'n_3': 0, 'n_2': 1, 'N22': 1, 'N23': 1}\n",
      "{'N1': '0', 'N2': '1', 'N3': '0', 'N6': '0', 'N7': '0', 'n_0': 1, 'n_1': 1, 'n_3': 0, 'n_2': 1, 'N22': 1, 'N23': 1}\n"
     ]
    }
   ],
   "source": [
    "print(value[0])\n",
    "print(value1[0])"
   ]
  },
  {
   "cell_type": "code",
   "execution_count": 31,
   "metadata": {},
   "outputs": [],
   "source": [
    "for i in range(len(lineIn)-1):\n",
    "    if value[i] != value1[i]:\n",
    "        print(\"There are differences\")"
   ]
  },
  {
   "cell_type": "code",
   "execution_count": null,
   "metadata": {},
   "outputs": [],
   "source": [
    "from collections import deque\n",
    "\n",
    "# Define the list N\n",
    "N = [1, 2, 3, 4, 5, 6, 7, 8, 9, 10]\n",
    "\n",
    "# Define the size of the queue\n",
    "n = 5\n",
    "\n",
    "# Create a new deque object and add the first n values of N to the queue\n",
    "queue = deque(N[:n])\n",
    "l =[1,2,3]\n",
    "queue.extend(l)\n",
    "# Print the initial queue\n",
    "print(queue)\n",
    "if l in N:\n",
    "    print(\"yes\")"
   ]
  },
  {
   "cell_type": "code",
   "execution_count": 69,
   "metadata": {},
   "outputs": [
    {
     "name": "stdout",
     "output_type": "stream",
     "text": [
      "[1, 2, 3, 4, 5, 6, 1]\n",
      "[1, 2, 3, 4, 5, 6]\n"
     ]
    }
   ],
   "source": [
    "l=[1,2,3,4,5,6]\n",
    "m = l[:]\n",
    "m.append(1)\n",
    "print(m)\n",
    "print(l)"
   ]
  }
 ],
 "metadata": {
  "kernelspec": {
   "display_name": "Python 3 (ipykernel)",
   "language": "python",
   "name": "python3"
  },
  "language_info": {
   "codemirror_mode": {
    "name": "ipython",
    "version": 3
   },
   "file_extension": ".py",
   "mimetype": "text/x-python",
   "name": "python",
   "nbconvert_exporter": "python",
   "pygments_lexer": "ipython3",
   "version": "3.9.12"
  },
  "vscode": {
   "interpreter": {
    "hash": "b76e693b44b3581cdfe447d90b2f450bdb15f1cc32286f81ee9918acfd7cde71"
   }
  }
 },
 "nbformat": 4,
 "nbformat_minor": 2
}
