{
 "cells": [
  {
   "cell_type": "code",
   "execution_count": 65,
   "metadata": {},
   "outputs": [
    {
     "name": "stdout",
     "output_type": "stream",
     "text": [
      "[('A', {'gateType': 'PI'}), ('D', {'gateType': 'AND2'}), ('B', {'gateType': 'PI'}), ('E', {'gateType': 'XOR2'}), ('G', {'gateType': 'AND2'}), ('C', {'gateType': 'PI'}), ('F', {'gateType': 'INV'}), ('I', {'gateType': 'OR2'}), ('H', {'gateType': 'AND2'}), ('J', {'gateType': 'OR2'})]\n"
     ]
    },
    {
     "ename": "TypeError",
     "evalue": "'NodeDataView' object is not callable",
     "output_type": "error",
     "traceback": [
      "\u001b[0;31m---------------------------------------------------------------------------\u001b[0m",
      "\u001b[0;31mTypeError\u001b[0m                                 Traceback (most recent call last)",
      "\u001b[1;32m/home/pika/Sem 4 Notes/EE2703 -APL/Week4/benchmarks/week4.ipynb Cell 1\u001b[0m in \u001b[0;36m<cell line: 9>\u001b[0;34m()\u001b[0m\n\u001b[1;32m      <a href='vscode-notebook-cell:/home/pika/Sem%204%20Notes/EE2703%20-APL/Week4/benchmarks/week4.ipynb#W0sZmlsZQ%3D%3D?line=6'>7</a>\u001b[0m \u001b[39mprint\u001b[39m(g\u001b[39m.\u001b[39mnodes(data\u001b[39m=\u001b[39m\u001b[39mTrue\u001b[39;00m))\n\u001b[1;32m      <a href='vscode-notebook-cell:/home/pika/Sem%204%20Notes/EE2703%20-APL/Week4/benchmarks/week4.ipynb#W0sZmlsZQ%3D%3D?line=7'>8</a>\u001b[0m \u001b[39m# sort the nodes in topological order\u001b[39;00m\n\u001b[0;32m----> <a href='vscode-notebook-cell:/home/pika/Sem%204%20Notes/EE2703%20-APL/Week4/benchmarks/week4.ipynb#W0sZmlsZQ%3D%3D?line=8'>9</a>\u001b[0m nl \u001b[39m=\u001b[39m \u001b[39mlist\u001b[39;49m(nx\u001b[39m.\u001b[39;49mtopological_sort(g))\n\u001b[1;32m     <a href='vscode-notebook-cell:/home/pika/Sem%204%20Notes/EE2703%20-APL/Week4/benchmarks/week4.ipynb#W0sZmlsZQ%3D%3D?line=9'>10</a>\u001b[0m \u001b[39mprint\u001b[39m(\u001b[39m'\u001b[39m\u001b[39mNodes in topological order\u001b[39m\u001b[39m'\u001b[39m,nl)\n\u001b[1;32m     <a href='vscode-notebook-cell:/home/pika/Sem%204%20Notes/EE2703%20-APL/Week4/benchmarks/week4.ipynb#W0sZmlsZQ%3D%3D?line=10'>11</a>\u001b[0m \u001b[39m# find children of a node\u001b[39;00m\n",
      "\u001b[0;31mTypeError\u001b[0m: 'NodeDataView' object is not callable"
     ]
    }
   ],
   "source": [
    "import networkx as nx\n",
    "# create a DAG\n",
    "g = nx.DiGraph()\n",
    "# add nl[j]s and edges to the DAG\n",
    "g.add_edges_from([(\"A\", \"D\"), (\"B\", \"D\"), (\"B\", \"E\"), (\"B\", \"G\"), (\"C\", \"E\"),(\"C\", \"F\"), (\"D\", \"I\"), (\"E\", \"G\"),(\"E\", \"H\"), (\"F\", \"H\"), (\"G\", \"I\"), (\"G\",\"J\"), (\"H\", \"J\")])\n",
    "nx.set_node_attributes(g, {\"A\": \"PI\", \"B\": \"PI\", \"C\":\"PI\", \"D\":\"AND2\", \"E\":\"XOR2\", \"F\":\"INV\", \"G\":\"AND2\", \"H\":\"AND2\", \"I\":\"OR2\", \"J\":\"OR2\"},name=\"gateType\")\n",
    "print(g.nodes(data=True))\n",
    "# sort the nodes in topological order\n",
    "nl = list(nx.topological_sort(g))\n",
    "print('Nodes in topological order',nl)\n",
    "# find children of a node\n",
    "print('Successors of node B', list(g.successors(\"B\")))\n",
    "# find parents of a node\n",
    "print('Parents of node H', list(g.predecessors(\"H\")))\n",
    "['C', 'F', 'A', 'B', 'D', 'E', 'G', 'H', 'I', 'J']"
   ]
  },
  {
   "attachments": {},
   "cell_type": "markdown",
   "metadata": {},
   "source": [
    "# Getting the input from the netlist file"
   ]
  },
  {
   "cell_type": "code",
   "execution_count": 27,
   "metadata": {},
   "outputs": [
    {
     "name": "stdout",
     "output_type": "stream",
     "text": [
      "DiGraph with 135 nodes and 206 edges\n",
      "Nodes in topological order ['q', 'h', 'g', 'f', 'bn0', 'e', 'an0', 'd', 'r', 'cn0', 'y', 'z', 'c', 'b', 'a', 'v', 'w', 'x', 'i', 'l', 'k', 'm', 'n', 'j', 'p', 'u', 'o', 's', 'n_1', 'n_0', 'dummy_11', 'dummy_32', 'dummy_37', 'n_20', 'ln0', 'dummy_28', 'dummy_12', 'dummy_30', 'n_43', 'dummy_39', 'n_2', 'dummy_21', 'dummy_26', 'dummy_24', 'n_31', 'dummy_34', 'dummy_36', 'n_5', 'n_16', 'n_60', 'n_7', 'dummy_25', 'dummy_27', 'dummy_29', 'dummy_31', 'dummy_33', 'dummy_35', 'dummy_38', 'dummy_40', 'dummy_23', 'n_6', 'n_25', 'n_23', 'n_17', 'n_14', 'n_12', 'n_11', 'n_10', 'n_9', 'n_8', 'dummy_1', 'dummy_3', 'dummy_5', 'dummy_7', 'dummy_10', 'dummy_15', 'dummy_18', 'dummy_20', 'dummy_22', 'gn0', 'fn0', 'hn0', 'in0', 'kn0', 'dn0', 'jn0', 'en0', 'n_24', 'n_27', 'n_26', 'n_32', 'n_28', 'dummy_19', 'dummy_17', 'dummy_16', 'n_35', 'n_30', 'n_33', 'n_29', 'n_34', 'n_37', 'n_36', 'n_44', 'dummy_14', 'dummy_13', 'mn0', 'nn0', 'dummy_9', 'dummy_8', 'n_48', 'n_42', 'n_39', 'n_40', 'n_47', 'n_50', 'n_49', 'n_54', 'dummy_6', 'on0', 'n_46', 'pn0', 'dummy_4', 'n_56', 'n_55', 'n_51', 'un0', 'n_57', 'dummy_0', 'dummy_2', 'qn0', 'rn0', 'n_62', 'n_61', 'tn0', 'sn0']\n",
      "{'a': '0', 'b': '1', 'c': '0', 'd': '0', 'e': '0', 'f': '1', 'g': '0', 'h': '0', 'i': '1', 'j': '1', 'k': '0', 'l': '0', 'm': '1', 'n': '0', 'o': '1', 'p': '1', 'q': '0', 'r': '1', 's': '1', 'u': '0', 'v': '0', 'w': '0', 'x': '1', 'y': '1', 'z': '1', 'an0': '1', 'bn0': '1', 'cn0': '0'}\n"
     ]
    }
   ],
   "source": [
    "\n",
    "# The program will throw in an error if there isn't exactly 2 arguments in the commandline.\n",
    "# if len(argv)!=2:\n",
    "# \tprint(\"Please provide the correct 2 arguments in the commandline.\")\n",
    "# \texit()\n",
    "import networkx as nx\n",
    "\n",
    "class Component:\n",
    "\tdef __init__(self,name,g_type,input,output):\n",
    "\t\tself.name = name\n",
    "\t\tself.g_type = g_type\n",
    "\t\tself.input = input\n",
    "\t\tself.output = output\n",
    "l = []\n",
    "\t# Opening the file mentioned in the commandline.\n",
    "with open(\"c8.net\") as f:\n",
    "    lines = f.readlines()\n",
    "    for line in lines:\n",
    "        name,g_type,*input= line.split()\n",
    "        output = line.split()[-1]\n",
    "        Gate = Component(name,g_type,input,output)\n",
    "        l.append(Gate)\n",
    "\n",
    "edges = []\n",
    "g = nx.DiGraph()\n",
    "for gate in l:\n",
    "    if len(gate.input) == 3:\n",
    "        edges.append((gate.input[0],gate.output))\n",
    "        edges.append((gate.input[1],gate.output))\n",
    "    else:\n",
    "        edges.append((gate.input[0],gate.output))\n",
    "\n",
    "g.add_edges_from(edges)\n",
    "value = []\n",
    "with open(\"c8.inputs\") as file:\n",
    "    lineIn = file.readlines()\n",
    "    pi = lineIn[0].split()\n",
    "    for i in range(len(lineIn)-1):\n",
    "        value.append({})\n",
    "        for j in range(len(pi)):\n",
    "            value[i].update({lineIn[0].split()[j]:lineIn[i+1].split()[j]})\n",
    "value1 = value.copy()\n",
    "# print(value)\n",
    "gate_type = {}\n",
    "\n",
    "for node in pi:\n",
    "     gate_type.update({node:\"PI\"})\n",
    "\n",
    "for node in l:\n",
    "     gate_type.update({node.output:node.g_type})\n",
    "nx.set_node_attributes(g,gate_type,name = \"gateType\")\n",
    "\n",
    "nl = list(nx.topological_sort(g))\n",
    "print(g)\n",
    "print('Nodes in topological order',nl)\n",
    "\n",
    "Graph = g.nodes(data=True)\n",
    "\n",
    "typemap= {}\n",
    "for item in Graph:\n",
    "    typemap.update({item[0]:item[1][\"gateType\"]})\n",
    "print(value[0])"
   ]
  },
  {
   "attachments": {},
   "cell_type": "markdown",
   "metadata": {},
   "source": [
    "# Solving using the topological order"
   ]
  },
  {
   "cell_type": "code",
   "execution_count": 28,
   "metadata": {},
   "outputs": [
    {
     "name": "stdout",
     "output_type": "stream",
     "text": [
      "{'a': '0', 'b': '1', 'c': '0', 'd': '0', 'e': '0', 'f': '1', 'g': '0', 'h': '0', 'i': '1', 'j': '1', 'k': '0', 'l': '0', 'm': '1', 'n': '0', 'o': '1', 'p': '1', 'q': '0', 'r': '1', 's': '1', 'u': '0', 'v': '0', 'w': '0', 'x': '1', 'y': '1', 'z': '1', 'an0': '1', 'bn0': '1', 'cn0': '0', 'n_1': 1, 'n_0': 0, 'dummy_11': 0, 'dummy_32': 1, 'dummy_37': 1, 'n_20': 1, 'ln0': 0, 'dummy_28': 1, 'dummy_12': 1, 'dummy_30': 1, 'n_43': 0, 'dummy_39': 0, 'n_2': 1, 'dummy_21': 0, 'dummy_26': 0, 'dummy_24': 1, 'n_31': 0, 'dummy_34': 0, 'dummy_36': 0, 'n_5': 0, 'n_16': 0, 'n_60': 1, 'n_7': 1, 'dummy_25': 1, 'dummy_27': 1, 'dummy_29': 1, 'dummy_31': 1, 'dummy_33': 1, 'dummy_35': 1, 'dummy_38': 1, 'dummy_40': 1, 'dummy_23': 1, 'n_6': 1, 'n_25': 1, 'n_23': 1, 'n_17': 1, 'n_14': 1, 'n_12': 1, 'n_11': 1, 'n_10': 1, 'n_9': 1, 'n_8': 1, 'dummy_1': 0, 'dummy_3': 0, 'dummy_5': 1, 'dummy_7': 0, 'dummy_10': 0, 'dummy_15': 0, 'dummy_18': 1, 'dummy_20': 0, 'dummy_22': 1, 'gn0': 0, 'fn0': 1, 'hn0': 0, 'in0': 0, 'kn0': 0, 'dn0': 1, 'jn0': 0, 'en0': 1, 'n_24': 0, 'n_27': 0, 'n_26': 0, 'n_32': 0, 'n_28': 0, 'dummy_19': 0, 'dummy_17': 0, 'dummy_16': 0, 'n_35': 1, 'n_30': 0, 'n_33': 1, 'n_29': 1, 'n_34': 0, 'n_37': 1, 'n_36': 1, 'n_44': 0, 'dummy_14': 0, 'dummy_13': 1, 'mn0': 0, 'nn0': 1, 'dummy_9': 0, 'dummy_8': 0, 'n_48': 1, 'n_42': 1, 'n_39': 1, 'n_40': 0, 'n_47': 1, 'n_50': 1, 'n_49': 1, 'n_54': 0, 'dummy_6': 0, 'on0': 0, 'n_46': 1, 'pn0': 0, 'dummy_4': 0, 'n_56': 0, 'n_55': 1, 'n_51': 1, 'un0': 0, 'n_57': 0, 'dummy_0': 0, 'dummy_2': 0, 'qn0': 0, 'rn0': 1, 'n_62': 1, 'n_61': 1, 'tn0': 0, 'sn0': 0}\n"
     ]
    }
   ],
   "source": [
    "\n",
    "for i in range(len(lineIn)-1):   \n",
    "   \n",
    "   for j in range(len(pi),len(nl)):\n",
    "      p = list(g.predecessors(nl[j]))\n",
    "      out = 0 \n",
    "      \n",
    "      if typemap[nl[j]] == \"nand2\":\n",
    "         a =  int(value[i][p[0]]) * int(value[i][p[1]])\n",
    "         if a == 0 :\n",
    "            out = 1\n",
    "            \n",
    "      if typemap[nl[j]] == \"and2\":\n",
    "         out =  int(value[i][p[0]]) * int(value[i][p[1]])\n",
    "\n",
    "      if typemap[nl[j]] == \"nor2\":\n",
    "         if int(value[i][p[0]]) + int(value[i][p[1]]) < 1:\n",
    "            out = 1\n",
    "      \n",
    "      if typemap[nl[j]] == \"or2\":\n",
    "         if int(value[i][p[0]]) + int(value[i][p[1]]) > 1:\n",
    "            out = 1\n",
    "\n",
    "      if typemap[nl[j]] == \"inv\":\n",
    "         if int(value[i][p[0]]) == 0:\n",
    "            out = 1\n",
    "\n",
    "      if typemap[nl[j]] == \"xnor2\":\n",
    "         if int(value[i][p[0]]) == int(value[i][p[1]]):\n",
    "            out = 1\n",
    "\n",
    "      if typemap[nl[j]] == \"or2\":\n",
    "         if int(value[i][p[0]]) != int(value[i][p[1]]):\n",
    "            out = 1\n",
    "      value[i].update({nl[j]:out})\n",
    "print(value[0])\n",
    "           "
   ]
  },
  {
   "attachments": {},
   "cell_type": "markdown",
   "metadata": {},
   "source": [
    "# Using the Event - driven method"
   ]
  },
  {
   "cell_type": "code",
   "execution_count": 29,
   "metadata": {},
   "outputs": [
    {
     "name": "stdout",
     "output_type": "stream",
     "text": [
      "{'a': '0', 'b': '1', 'c': '0', 'd': '0', 'e': '0', 'f': '1', 'g': '0', 'h': '0', 'i': '1', 'j': '1', 'k': '0', 'l': '0', 'm': '1', 'n': '0', 'o': '1', 'p': '1', 'q': '0', 'r': '1', 's': '1', 'u': '0', 'v': '0', 'w': '0', 'x': '1', 'y': '1', 'z': '1', 'an0': '1', 'bn0': '1', 'cn0': '0', 'n_1': 1, 'n_0': 0, 'dummy_11': 0, 'dummy_32': 1, 'dummy_37': 1, 'n_20': 1, 'ln0': 0, 'dummy_28': 1, 'dummy_12': 1, 'dummy_30': 1, 'n_43': 0, 'dummy_39': 0, 'n_2': 1, 'dummy_21': 0, 'dummy_26': 0, 'dummy_24': 1, 'n_31': 0, 'dummy_34': 0, 'dummy_36': 0, 'n_5': 0, 'n_16': 0, 'n_60': 1, 'n_7': 1, 'dummy_25': 1, 'dummy_27': 1, 'dummy_29': 1, 'dummy_31': 1, 'dummy_33': 1, 'dummy_35': 1, 'dummy_38': 1, 'dummy_40': 1, 'dummy_23': 1, 'n_6': 1, 'n_25': 1, 'n_23': 1, 'n_17': 1, 'n_14': 1, 'n_12': 1, 'n_11': 1, 'n_10': 1, 'n_9': 1, 'n_8': 1, 'dummy_1': 0, 'dummy_3': 0, 'dummy_5': 1, 'dummy_7': 0, 'dummy_10': 0, 'dummy_15': 0, 'dummy_18': 1, 'dummy_20': 0, 'dummy_22': 1, 'gn0': 0, 'fn0': 1, 'hn0': 0, 'in0': 0, 'kn0': 0, 'dn0': 1, 'jn0': 0, 'en0': 1, 'n_24': 0, 'n_27': 0, 'n_26': 0, 'n_32': 0, 'n_28': 0, 'dummy_19': 0, 'dummy_17': 0, 'dummy_16': 0, 'n_35': 1, 'n_30': 0, 'n_33': 1, 'n_29': 1, 'n_34': 0, 'n_37': 1, 'n_36': 1, 'n_44': 0, 'dummy_14': 0, 'dummy_13': 1, 'mn0': 0, 'nn0': 1, 'dummy_9': 0, 'dummy_8': 0, 'n_48': 1, 'n_42': 1, 'n_39': 1, 'n_40': 0, 'n_47': 1, 'n_50': 1, 'n_49': 1, 'n_54': 0, 'dummy_6': 0, 'on0': 0, 'n_46': 1, 'pn0': 0, 'dummy_4': 0, 'n_56': 0, 'n_55': 1, 'n_51': 1, 'un0': 0, 'n_57': 0, 'dummy_0': 0, 'dummy_2': 0, 'qn0': 0, 'rn0': 1, 'n_62': 1, 'n_61': 1, 'tn0': 0, 'sn0': 0}\n"
     ]
    }
   ],
   "source": [
    "from collections import deque\n",
    "for i in range(len(lineIn)-1):\n",
    "    Event = deque(nl[:len(pi)])\n",
    "\n",
    "    while len(Event) !=0:\n",
    "        e = Event.popleft()\n",
    "        for thing in list(g.successors(e)):\n",
    "            if all(elem in value1[i] for elem in list(g.predecessors(thing))):\n",
    "                Event.extend(list(g.successors(e)))\n",
    "\n",
    "        if e not in value1[i]:\n",
    "            print(e)\n",
    "            p = list(g.predecessors(e))\n",
    "            out = 0\n",
    "            \n",
    "            if typemap[e] == \"nand2\":\n",
    "                a =  int(value1[i][p[0]]) * int(value1[i][p[1]])\n",
    "                if a == 0 :\n",
    "                    out = 1\n",
    "                    \n",
    "            if typemap[e] == \"and2\":\n",
    "                out =  int(value1[i][p[0]]) * int(value1[i][p[1]])\n",
    "\n",
    "            if typemap[e] == \"nor2\":\n",
    "                if int(value1[i][p[0]]) + int(value1[i][p[1]]) < 1:\n",
    "                    out = 1\n",
    "            \n",
    "            if typemap[e] == \"or2\":\n",
    "                if int(value1[i][p[0]]) + int(value1[i][p[1]]) > 1:\n",
    "                    out = 1\n",
    "\n",
    "            if typemap[e] == \"inv\":\n",
    "                if int(value1[i][p[0]]) == 0:\n",
    "                    out = 1\n",
    "\n",
    "            if typemap[e] == \"xnor2\":\n",
    "                if int(value1[i][p[0]]) == int(value1[i][p[1]]):\n",
    "                    out = 1\n",
    "\n",
    "            if typemap[e] == \"or2\":\n",
    "                if int(value1[i][p[0]]) != int(value1[i][p[1]]):\n",
    "                    out = 1\n",
    "                    \n",
    "            value1[i].update({e:out})\n",
    "\n",
    "print(value1[0])"
   ]
  },
  {
   "cell_type": "code",
   "execution_count": 30,
   "metadata": {},
   "outputs": [],
   "source": [
    "for i in range(len(lineIn)-1):\n",
    "    if set(value[i].items()) ^ set(value1[i].items()):\n",
    "        print(\"There are differences\")"
   ]
  },
  {
   "cell_type": "code",
   "execution_count": 13,
   "metadata": {},
   "outputs": [
    {
     "name": "stdout",
     "output_type": "stream",
     "text": [
      "deque([1, 2, 3, 4, 5, 1, 2, 3])\n"
     ]
    }
   ],
   "source": [
    "from collections import deque\n",
    "\n",
    "# Define the list N\n",
    "N = [1, 2, 3, 4, 5, 6, 7, 8, 9, 10]\n",
    "\n",
    "# Define the size of the queue\n",
    "n = 5\n",
    "\n",
    "# Create a new deque object and add the first n values of N to the queue\n",
    "queue = deque(N[:n])\n",
    "l =[1,2,3]\n",
    "queue.extend(l)\n",
    "# Print the initial queue\n",
    "print(queue)\n",
    "if l in N:\n",
    "    print(\"yes\")"
   ]
  }
 ],
 "metadata": {
  "kernelspec": {
   "display_name": "base",
   "language": "python",
   "name": "python3"
  },
  "language_info": {
   "codemirror_mode": {
    "name": "ipython",
    "version": 3
   },
   "file_extension": ".py",
   "mimetype": "text/x-python",
   "name": "python",
   "nbconvert_exporter": "python",
   "pygments_lexer": "ipython3",
   "version": "3.9.12"
  },
  "orig_nbformat": 4,
  "vscode": {
   "interpreter": {
    "hash": "b76e693b44b3581cdfe447d90b2f450bdb15f1cc32286f81ee9918acfd7cde71"
   }
  }
 },
 "nbformat": 4,
 "nbformat_minor": 2
}
