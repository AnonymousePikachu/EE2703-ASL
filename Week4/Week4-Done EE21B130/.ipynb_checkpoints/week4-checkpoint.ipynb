{
 "cells": [
  {
   "cell_type": "markdown",
   "metadata": {},
   "source": [
    "# Getting the input from the netlist file\n",
    "In this cell the files are inputted and transfered into a list for easy manipulation.  \n",
    "A class is defined to take in the value from each line. The edges list is included. Then this list is passed to the inbuilt edge -graph function from the networks library.  \n",
    "Now the data from the input file is transfered into a list of dictionaries for later access. And another gate type dictionary is created to find the type of the gate from the output terminal name.  \n",
    "Finally the graph is sorted topologically and saved as nl "
   ]
  },
  {
   "cell_type": "code",
   "execution_count": 13,
   "metadata": {},
   "outputs": [],
   "source": [
    "# Importing the necessary libraries\n",
    "import networkx as nx\n",
    "\n",
    "# Declaring variables for opening the files required\n",
    "netwrok = \"c432.net\"\n",
    "inputs = \"c432.inputs\"\n",
    "\n",
    "# Defining a class to take in the vlaues from the network file\n",
    "class Component:\n",
    "\tdef __init__(self,name,g_type,input,output):\n",
    "\t\tself.name = name\n",
    "\t\tself.g_type = g_type\n",
    "\t\tself.input = input\n",
    "\t\tself.output = output\n",
    "                \n",
    "# Declaring a list to store the components\n",
    "l = []\n",
    "\n",
    "# Opening the file mentioned and storing it in the list\n",
    "with open(netwrok) as f:\n",
    "    lines = f.readlines()\n",
    "    for line in lines:\n",
    "        name,g_type,*input= line.split()\n",
    "        output = line.split()[-1]\n",
    "        Gate = Component(name,g_type,input,output)\n",
    "        l.append(Gate)\n",
    "\n",
    "# Declaring and creating the  edges list for the topoligal sorting\n",
    "edges = []\n",
    "g = nx.DiGraph()\n",
    "for gate in l:\n",
    "    if len(gate.input) == 3:\n",
    "        edges.append((gate.input[0],gate.output))\n",
    "        edges.append((gate.input[1],gate.output))\n",
    "    else:\n",
    "        edges.append((gate.input[0],gate.output))\n",
    "\n",
    "# Making the diGraph for the topological sorting\n",
    "g.add_edges_from(edges)\n",
    "\n",
    "# Taking inputs from the inputs file and storing them in the values list as dictionaries\n",
    "value = []\n",
    "with open(inputs) as file:\n",
    "    lineIn = file.readlines()\n",
    "    pi = lineIn[0].split()\n",
    "    for i in range(len(lineIn)-1):\n",
    "        value.append({})\n",
    "        for j in range(len(pi)):\n",
    "            value[i].update({lineIn[0].split()[j]:lineIn[i+1].split()[j]})\n",
    "value1 = value.copy()\n",
    "\n",
    "# Saving the gate_types of eadh gate as a dictionary for later use in the gate function\n",
    "gate_type = {}\n",
    "for node in pi:\n",
    "     gate_type.update({node:\"PI\"})\n",
    "for node in l:\n",
    "     gate_type.update({node.output:node.g_type})\n",
    "nx.set_node_attributes(g,gate_type,name = \"gateType\")\n",
    "\n",
    "# Making a topologically sorted list of the nodes\n",
    "nl = list(nx.topological_sort(g))"
   ]
  },
  {
   "cell_type": "markdown",
   "metadata": {},
   "source": [
    "# Solving using the topological order\n",
    "Topological solving works by finding the value of each node from the predeseesors in topological order. The sorted list of nodes are iterated over to find their type and predessors, and then to find the output based on these parameters . All these steps are iterated over the number of input sets given"
   ]
  },
  {
   "cell_type": "code",
   "execution_count": 18,
   "metadata": {},
   "outputs": [
    {
     "name": "stdout",
     "output_type": "stream",
     "text": [
      "{'N1': '0', 'N4': '0', 'N8': '1', 'N11': '0', 'N14': '1', 'N17': '1', 'N21': '0', 'N24': '0', 'N27': '0', 'N30': '0', 'N34': '1', 'N37': '1', 'N40': '1', 'N43': '0', 'N47': '0', 'N50': '0', 'N53': '0', 'N56': '1', 'N60': '1', 'N63': '0', 'N66': '1', 'N69': '0', 'N73': '1', 'N76': '1', 'N79': '1', 'N82': '0', 'N86': '1', 'N89': '1', 'N92': '1', 'N95': '1', 'N99': '0', 'N102': '0', 'N105': '0', 'N108': '1', 'N112': '0', 'N115': '0', 'n_2': 0, 'n_4': 0, 'n_8': 0, 'n_3': 0, 'n_1': 0, 'n_9': 0, 'n_5': 0, 'n_0': 0, 'n_6': 0, 'n_7': 0, 'n_20': 0, 'n_12': 0, 'n_10': 0, 'n_13': 0, 'n_14': 0, 'dummy_37': 1, 'n_15': 0, 'n_21': 0, 'n_19': 0, 'dummy_56': 1, 'n_11': 1, 'dummy_58': 0, 'dummy_57': 0, 'dummy_54': 0, 'n_17': 0, 'n_16': 1, 'dummy_55': 0, 'n_18': 0, 'n_22': 1, 'n_23': 0, 'n_24': 1, 'n_37': 0, 'n_39': 0, 'n_34': 0, 'n_27': 0, 'n_31': 0, 'n_43': 0, 'n_26': 0, 'n_29': 0, 'N223': 0, 'n_42': 0, 'n_38': 0, 'n_41': 0, 'n_40': 0, 'n_36': 0, 'n_35': 0, 'n_33': 0, 'n_28': 0, 'dummy_35': 1, 'n_32': 0, 'n_44': 0, 'dummy_36': 1, 'n_46': 0, 'n_30': 0, 'dummy_16': 0, 'dummy_18': 0, 'dummy_20': 0, 'dummy_22': 0, 'dummy_24': 0, 'dummy_26': 0, 'dummy_40': 0, 'n_25': 1, 'n_59': 1, 'n_58': 1, 'n_57': 1, 'n_56': 1, 'n_48': 1, 'n_52': 1, 'n_54': 1, 'n_53': 1, 'n_63': 1, 'n_50': 1, 'dummy_48': 0, 'n_47': 1, 'n_62': 1, 'n_45': 0, 'dummy_49': 1, 'dummy_43': 1, 'dummy_50': 1, 'n_49': 0, 'dummy_52': 1, 'dummy_44': 1, 'dummy_51': 1, 'dummy_47': 1, 'dummy_53': 0, 'n_88': 1, 'n_60': 0, 'n_55': 0, 'n_51': 1, 'n_61': 0, 'dummy_46': 0, 'n_64': 1, 'n_65': 0, 'dummy_45': 0, 'N329': 1, 'dummy_39': 1, 'dummy_41': 1, 'dummy_42': 0, 'n_77': 1, 'n_76': 1, 'n_75': 1, 'n_74': 0, 'n_73': 0, 'n_72': 0, 'n_71': 0, 'n_70': 0, 'n_69': 0, 'n_68': 0, 'n_67': 0, 'n_66': 0, 'n_81': 0, 'n_79': 0, 'n_78': 0, 'n_85': 0, 'n_86': 0, 'dummy_38': 1, 'n_82': 1, 'dummy_30': 0, 'n_83': 1, 'dummy_34': 0, 'n_89': 0, 'dummy_32': 0, 'dummy_33': 0, 'n_84': 0, 'n_87': 1, 'n_90': 1, 'dummy_31': 0, 'dummy_29': 1, 'n_91': 1, 'dummy_28': 1, 'N370': 0, 'dummy_15': 0, 'dummy_17': 0, 'dummy_19': 0, 'dummy_21': 0, 'dummy_23': 0, 'dummy_25': 0, 'dummy_27': 0, 'n_92': 1, 'n_101': 1, 'n_98': 1, 'n_97': 1, 'n_96': 1, 'n_95': 1, 'n_94': 1, 'n_93': 0, 'dummy_14': 0, 'dummy_12': 0, 'dummy_8': 0, 'dummy_9': 0, 'dummy_11': 0, 'dummy_13': 0, 'dummy_10': 0, 'dummy_0': 0, 'n_104': 1, 'n_103': 1, 'n_106': 1, 'n_117': 1, 'n_102': 1, 'n_108': 1, 'n_113': 1, 'n_109': 0, 'dummy_2': 1, 'n_105': 0, 'dummy_4': 1, 'dummy_7': 1, 'n_107': 0, 'n_111': 1, 'n_110': 0, 'n_118': 1, 'dummy_6': 1, 'n_112': 1, 'n_114': 1, 'N430': 0, 'dummy_3': 1, 'dummy_5': 1, 'n_116': 1, 'N431': 0, 'N432': 0, 'dummy_1': 1, 'n_121': 0, 'n_122': 0, 'N421': 1}\n"
     ]
    }
   ],
   "source": [
    "# Iterating through all the input sets given\n",
    "for i in range(len(lineIn)-1):   \n",
    "\n",
    "   # Iterating through the gates except pi\n",
    "   for j in range(len(pi),len(nl)):\n",
    "\n",
    "      # Finding the predecessors of the gate\n",
    "      p = list(g.predecessors(nl[j]))\n",
    "      \n",
    "      # Checking for all types of gates and performing the necessary operations\n",
    "      if gate_type[nl[j]] == \"nand2\":\n",
    "         out = int(not(value[i][p[0]] and value[i][p[1]]))\n",
    "\n",
    "            \n",
    "      elif gate_type[nl[j]] == \"and2\":\n",
    "         out = int(value[i][p[0]] and value[i][p[1]])\n",
    "\n",
    "      elif gate_type[nl[j]] == \"nor2\":\n",
    "         out = int(not(value[i][p[0]] or value[i][p[1]]))\n",
    "      \n",
    "      elif gate_type[nl[j]] == \"or2\":\n",
    "         out = int(value[i][p[0]] or value[i][p[1]])\n",
    "\n",
    "      elif gate_type[nl[j]] == \"inv\":\n",
    "         out = int(not(value[i][p[0]]))\n",
    "\n",
    "      elif gate_type[nl[j]] == \"xnor2\":\n",
    "         out = int(not(value[i][p[0]] ^ value[i][p[1]]))\n",
    "\n",
    "      elif gate_type[nl[j]] == \"xor2\":\n",
    "         out = int(value[i][p[0]] ^ value[i][p[1]])\n",
    "      \n",
    "      # Updating the output of the current gate into the value list\n",
    "      value[i].update({nl[j]:out})\n",
    "print(value[0])"
   ]
  },
  {
   "cell_type": "markdown",
   "metadata": {},
   "source": [
    "# Using the Event - driven method\n",
    "Event-driven method works by updating the states in an event driven approach. This utilises a queue that contuially gets update by popping elements and adding its sucessors, given that both its predesessors are present in the value list already. The popped value if not already in the value list , is then added by considering the type of gate and the predessors. All these steps are iterated over the number of input sets given"
   ]
  },
  {
   "cell_type": "code",
   "execution_count": 20,
   "metadata": {},
   "outputs": [
    {
     "name": "stdout",
     "output_type": "stream",
     "text": [
      "{'N1': '0', 'N4': '0', 'N8': '1', 'N11': '0', 'N14': '1', 'N17': '1', 'N21': '0', 'N24': '0', 'N27': '0', 'N30': '0', 'N34': '1', 'N37': '1', 'N40': '1', 'N43': '0', 'N47': '0', 'N50': '0', 'N53': '0', 'N56': '1', 'N60': '1', 'N63': '0', 'N66': '1', 'N69': '0', 'N73': '1', 'N76': '1', 'N79': '1', 'N82': '0', 'N86': '1', 'N89': '1', 'N92': '1', 'N95': '1', 'N99': '0', 'N102': '0', 'N105': '0', 'N108': '1', 'N112': '0', 'N115': '0', 'n_2': 0, 'n_4': 0, 'n_8': 0, 'n_3': 0, 'n_1': 0, 'n_9': 0, 'n_5': 0, 'n_0': 0, 'n_6': 0, 'n_7': 0, 'n_20': 0, 'n_12': 0, 'n_10': 0, 'n_13': 0, 'n_14': 0, 'dummy_37': 1, 'n_15': 0, 'n_21': 0, 'n_19': 0, 'dummy_56': 1, 'n_11': 1, 'dummy_58': 0, 'dummy_57': 0, 'dummy_54': 0, 'n_17': 0, 'n_16': 1, 'dummy_55': 0, 'n_18': 0, 'n_22': 1, 'n_23': 0, 'n_24': 1, 'n_37': 0, 'n_39': 0, 'n_34': 0, 'n_27': 0, 'n_31': 0, 'n_43': 0, 'n_26': 0, 'n_29': 0, 'N223': 0, 'n_42': 0, 'n_38': 0, 'n_41': 0, 'n_40': 0, 'n_36': 0, 'n_35': 0, 'n_33': 0, 'n_28': 0, 'dummy_35': 1, 'n_32': 0, 'n_44': 0, 'dummy_36': 1, 'n_46': 0, 'n_30': 0, 'dummy_16': 0, 'dummy_18': 0, 'dummy_20': 0, 'dummy_22': 0, 'dummy_24': 0, 'dummy_26': 0, 'dummy_40': 0, 'n_25': 1, 'n_59': 1, 'n_58': 1, 'n_57': 1, 'n_56': 1, 'n_48': 1, 'n_52': 1, 'n_54': 1, 'n_53': 1, 'n_63': 1, 'n_50': 1, 'dummy_48': 0, 'n_47': 1, 'n_62': 1, 'n_45': 0, 'dummy_49': 1, 'dummy_43': 1, 'dummy_50': 1, 'n_49': 0, 'dummy_52': 1, 'dummy_44': 1, 'dummy_51': 1, 'dummy_47': 1, 'dummy_53': 0, 'n_88': 1, 'n_60': 0, 'n_55': 0, 'n_51': 1, 'n_61': 0, 'dummy_46': 0, 'n_64': 1, 'n_65': 0, 'dummy_45': 0, 'N329': 1, 'dummy_39': 1, 'dummy_41': 1, 'dummy_42': 0, 'n_77': 1, 'n_76': 1, 'n_75': 1, 'n_74': 0, 'n_73': 0, 'n_72': 0, 'n_71': 0, 'n_70': 0, 'n_69': 0, 'n_68': 0, 'n_67': 0, 'n_66': 0, 'n_81': 0, 'n_79': 0, 'n_78': 0, 'n_85': 0, 'n_86': 0, 'dummy_38': 1, 'n_82': 1, 'dummy_30': 0, 'n_83': 1, 'dummy_34': 0, 'n_89': 0, 'dummy_32': 0, 'dummy_33': 0, 'n_84': 0, 'n_87': 1, 'n_90': 1, 'dummy_31': 0, 'dummy_29': 1, 'n_91': 1, 'dummy_28': 1, 'N370': 0, 'dummy_15': 0, 'dummy_17': 0, 'dummy_19': 0, 'dummy_21': 0, 'dummy_23': 0, 'dummy_25': 0, 'dummy_27': 0, 'n_92': 1, 'n_101': 1, 'n_98': 1, 'n_97': 1, 'n_96': 1, 'n_95': 1, 'n_94': 1, 'n_93': 0, 'dummy_14': 0, 'dummy_12': 0, 'dummy_8': 0, 'dummy_9': 0, 'dummy_11': 0, 'dummy_13': 0, 'dummy_10': 0, 'dummy_0': 0, 'n_104': 1, 'n_103': 1, 'n_106': 1, 'n_117': 1, 'n_102': 1, 'n_108': 1, 'n_113': 1, 'n_109': 0, 'dummy_2': 1, 'n_105': 0, 'dummy_4': 1, 'dummy_7': 1, 'n_107': 0, 'n_111': 1, 'n_110': 0, 'n_118': 1, 'dummy_6': 1, 'n_112': 1, 'n_114': 1, 'N430': 0, 'dummy_3': 1, 'dummy_5': 1, 'n_116': 1, 'N431': 0, 'N432': 0, 'dummy_1': 1, 'n_121': 0, 'n_122': 0, 'N421': 1}\n"
     ]
    }
   ],
   "source": [
    "# Importing the\n",
    "from queue import Queue\n",
    "\n",
    "# Declaring and initializing the queue\n",
    "Event = Queue()\n",
    "for item in nl[:len(pi)]:\n",
    "    Event.put(item)\n",
    "\n",
    "# Iterating through all the input sets given\n",
    "for i in range(len(lineIn)-1):\n",
    "    \n",
    "\n",
    "    while not Event.empty():\n",
    "        e = Event.get()\n",
    "        # Adding the succesors of the thing to the queue only is all the predessors are there in the value list already\n",
    "        for thing in list(g.successors(e)):\n",
    "            if all(elem in value1[i] for elem in list(g.predecessors(thing))):\n",
    "                Event.put(thing)\n",
    "\n",
    "        # Checking if the value of the key already exist\n",
    "        if e not in value1[i]:\n",
    "            print(e)\n",
    "            p = list(g.predecessors(e))\n",
    "            out = 0\n",
    "            \n",
    "            # Checking and executing all the gates\n",
    "            if gate_type[e] == \"nand2\":\n",
    "                out = int(not(value[i][p[0]] and value[i][p[1]]))\n",
    "                    \n",
    "            elif gate_type[e] == \"and2\":\n",
    "                out = int(value[i][p[0]] and value[i][p[1]])\n",
    "\n",
    "            elif gate_type[e] == \"nor2\":\n",
    "                out = int(not(value[i][p[0]] or value[i][p[1]]))\n",
    "            \n",
    "            elif gate_type[e] == \"or2\":\n",
    "                out = int(value[i][p[0]] or value[i][p[1]])\n",
    "\n",
    "            elif gate_type[e] == \"inv\":\n",
    "                out = int(not(value[i][p[0]]))\n",
    "\n",
    "            elif gate_type[e] == \"xnor2\":\n",
    "                out = int(not(value[i][p[0]] ^ value[i][p[1]]))\n",
    "\n",
    "            elif gate_type[e] == \"xor2\":\n",
    "                out = int(value[i][p[0]] ^ value[i][p[1]])\n",
    "            \n",
    "            # Adding the key value pair to the value list\n",
    "            value1[i].update({e:out})\n",
    "print(value1[0])"
   ]
  },
  {
   "cell_type": "code",
   "execution_count": 16,
   "metadata": {},
   "outputs": [],
   "source": [
    "for i in range(len(lineIn)-1):\n",
    "    if value[i] != value1[i]:\n",
    "        print(\"Some difference is there\")"
   ]
  }
 ],
 "metadata": {
  "authors": [
   {
    "name": "Sidharth S Kumar EE21B130"
   }
  ],
  "kernelspec": {
   "display_name": "Python 3 (ipykernel)",
   "language": "python",
   "name": "python3"
  },
  "language_info": {
   "codemirror_mode": {
    "name": "ipython",
    "version": 3
   },
   "file_extension": ".py",
   "mimetype": "text/x-python",
   "name": "python",
   "nbconvert_exporter": "python",
   "pygments_lexer": "ipython3",
   "version": "3.9.12"
  },
  "vscode": {
   "interpreter": {
    "hash": "b76e693b44b3581cdfe447d90b2f450bdb15f1cc32286f81ee9918acfd7cde71"
   }
  }
 },
 "nbformat": 4,
 "nbformat_minor": 2
}
