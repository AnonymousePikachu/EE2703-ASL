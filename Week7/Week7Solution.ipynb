{
 "cells": [
  {
   "cell_type": "code",
   "execution_count": null,
   "metadata": {},
   "outputs": [],
   "source": [
    "# Set up imports\n",
    "%matplotlib ipympl\n",
    "import numpy as np\n",
    "import matplotlib.pyplot as plt\n",
    "from matplotlib.animation import FuncAnimation"
   ]
  },
  {
   "attachments": {},
   "cell_type": "markdown",
   "metadata": {},
   "source": [
    "# Encapsulating is a function"
   ]
  },
  {
   "cell_type": "code",
   "execution_count": null,
   "metadata": {},
   "outputs": [],
   "source": [
    "# Initial temperature\n",
    "T = 3.0\n",
    "decayrate = 0.95\n",
    "# Set up some large value for the best cost found so far\n",
    "bestcost = 100000\n",
    "# Generate several values within a search 'space' and check whether the new value is better\n",
    "# than the best seen so far.\n",
    "bestx = -2\n",
    "rangemin, rangemax = -2, 2 \n",
    "fig, ax = plt.subplots()\n",
    "ax.plot(xbase, ybase)\n",
    "xall, yall = [], []\n",
    "lnall,  = ax.plot([], [], 'ro')\n",
    "lngood, = ax.plot([], [], 'go', markersize=10)\n",
    "def onestep(frame):\n",
    "    global bestcost, bestx, decayrate, T\n",
    "    # Generate a random value \\in -2, +2\n",
    "    dx = (np.random.random_sample() - 0.5) * T\n",
    "    x = bestx + dx\n",
    "    # print(f\"Old x = {x}, delta = {dx}\")\n",
    "    y = yfunc(x)\n",
    "    if y < bestcost:\n",
    "        # print(f\"Improved from {bestcost} at {bestx} to {y} at {x}\")\n",
    "        bestcost = y\n",
    "        bestx = x\n",
    "        lngood.set_data(x, y)\n",
    "    else:\n",
    "        toss = np.random.random_sample()\n",
    "        if toss < np.exp(-(y-bestcost)/T):\n",
    "            bestcost = y\n",
    "            bestx = x\n",
    "            lngood.set_data(x, y)\n",
    "        pass\n",
    "    T = T * decayrate\n",
    "    "
   ]
  }
 ],
 "metadata": {
  "language_info": {
   "name": "python"
  },
  "orig_nbformat": 4
 },
 "nbformat": 4,
 "nbformat_minor": 2
}
